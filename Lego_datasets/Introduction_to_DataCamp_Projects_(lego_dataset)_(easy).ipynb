{
  "metadata": {
    "kernelspec": {
      "display_name": "Python 3",
      "language": "python",
      "name": "python3"
    },
    "language_info": {
      "codemirror_mode": {
        "name": "ipython",
        "version": 3
      },
      "file_extension": ".py",
      "mimetype": "text/x-python",
      "name": "python",
      "nbconvert_exporter": "python",
      "pygments_lexer": "ipython3",
      "version": "3.5.2"
    }
  },
  "nbformat": 4,
  "nbformat_minor": 2,
  "cells": [
    {
      "cell_type": "markdown",
      "metadata": {
        "tags": [
          "context"
        ],
        "deletable": false,
        "editable": false,
        "run_control": {
          "frozen": true
        },
        "dc": {
          "key": "1d0b086e6c"
        }
      },
      "source": [
        "## Introduction\n",
        "<p>Everyone loves Lego (unless you ever stepped on one). Did you know by the way that \"Lego\" was derived from the Danish phrase leg godt, which means \"play well\"? Unless you speak Danish, probably not. </p>\n",
        "<p>In this project, we will analyze a fascinating dataset on every single lego block that has ever been built!</p>\n",
        "<p><img src=\"https://s3.amazonaws.com/assets.datacamp.com/projects/lego/lego-bricks.jpeg\" alt=\"lego\"></p>"
      ]
    },
    {
      "cell_type": "code",
      "metadata": {
        "tags": [
          "sample_code"
        ],
        "dc": {
          "key": "1d0b086e6c"
        }
      },
      "execution_count": 0,
      "outputs": [],
      "source": [
        "# Nothing to do here"
      ]
    },
    {
      "cell_type": "code",
      "execution_count": 0,
      "metadata": {
        "hide": true,
        "tags": [
          "tests"
        ],
        "dc": {
          "key": "1d0b086e6c"
        }
      },
      "outputs": [],
      "source": [
        "%%nose\n",
        "def test_default():\n",
        "  assert True"
      ]
    },
    {
      "cell_type": "markdown",
      "metadata": {
        "tags": [
          "context"
        ],
        "deletable": false,
        "editable": false,
        "run_control": {
          "frozen": true
        },
        "dc": {
          "key": "044b2cef41"
        }
      },
      "source": [
        "## Reading Data\n",
        "<p>This comprehensive database of lego blocks is provided by <a href=\"https://rebrickable.com/downloads/\">Rebrickable</a>. The data is available as csv files and the schema is shown below.</p>\n",
        "<p><img src=\"https://s3.amazonaws.com/assets.datacamp.com/projects/lego/downloads_schema.png\" alt=\"schema\"></p>\n",
        "<p>Let us start by reading in the colors data to get a sense of the diversity of lego sets!</p>"
      ]
    },
    {
      "cell_type": "code",
      "metadata": {
        "tags": [
          "sample_code"
        ],
        "dc": {
          "key": "044b2cef41"
        }
      },
      "execution_count": 0,
      "outputs": [],
      "source": [
        "# Import modules\n",
        "import pandas as pd\n",
        "\n",
        "# Read colors data\n",
        "colors = pd.read_csv('datasets/colors.csv')\n",
        "\n",
        "# Print the first few rows\n",
        "colors.head()"
      ]
    },
    {
      "cell_type": "code",
      "execution_count": 0,
      "metadata": {
        "hide": true,
        "tags": [
          "tests"
        ],
        "dc": {
          "key": "044b2cef41"
        }
      },
      "outputs": [],
      "source": [
        "%%nose\n",
        "def test_colors_exists():\n",
        "    assert 'colors' in globals(), \"You should read the data into a variable named `colors`\""
      ]
    },
    {
      "cell_type": "markdown",
      "metadata": {
        "tags": [
          "context"
        ],
        "deletable": false,
        "editable": false,
        "run_control": {
          "frozen": true
        },
        "dc": {
          "key": "15c1e2ce38"
        }
      },
      "source": [
        "## Exploring Colors\n",
        "<p>Now that we have read the <code>colors</code> data, we can start exploring it! Let us start by understanding the number of colors available.</p>"
      ]
    },
    {
      "cell_type": "code",
      "metadata": {
        "tags": [
          "sample_code"
        ],
        "dc": {
          "key": "15c1e2ce38"
        }
      },
      "execution_count": 0,
      "outputs": [],
      "source": [
        "# How many distinct colors are available?\n",
        "# -- YOUR CODE FOR TASK 3 --"
      ]
    },
    {
      "cell_type": "code",
      "execution_count": 0,
      "metadata": {
        "hide": true,
        "tags": [
          "tests"
        ],
        "dc": {
          "key": "15c1e2ce38"
        }
      },
      "outputs": [],
      "source": [
        "%%nose\n",
        "def test_num_colors():\n",
        "    assert num_colors == 135, \"The variable num_colors should equal 135\""
      ]
    },
    {
      "cell_type": "markdown",
      "metadata": {
        "tags": [
          "context"
        ],
        "deletable": false,
        "editable": false,
        "run_control": {
          "frozen": true
        },
        "dc": {
          "key": "a5723ae5c2"
        }
      },
      "source": [
        "## Transparent Colors in Lego Sets\n",
        "<p>The <code>colors</code> data has a column named <code>is_trans</code> that indicates whether a color is transparent or not. It would be interesting to explore the distribution of transparent vs. non-transparent colors.</p>"
      ]
    },
    {
      "cell_type": "code",
      "metadata": {
        "tags": [
          "sample_code"
        ],
        "dc": {
          "key": "a5723ae5c2"
        }
      },
      "execution_count": 0,
      "outputs": [],
      "source": [
        "# colors_summary: Distribution of colors based on transparency\n",
        "# -- YOUR CODE FOR TASK 4 --"
      ]
    },
    {
      "cell_type": "code",
      "execution_count": 0,
      "metadata": {
        "hide": true,
        "tags": [
          "tests"
        ],
        "dc": {
          "key": "a5723ae5c2"
        }
      },
      "outputs": [],
      "source": [
        "%%nose\n",
        "def test_colors_summary_exists():\n",
        "    assert 'colors_summary' in globals(), \"You should have defined a variable named `colors_summary`\"\n",
        "def test_colors_summary():\n",
        "    assert colors_summary.shape == (2, 3), \"The DataFrame colors_summary should contain 2 rows and 3 columns\""
      ]
    },
    {
      "cell_type": "markdown",
      "metadata": {
        "tags": [
          "context"
        ],
        "deletable": false,
        "editable": false,
        "run_control": {
          "frozen": true
        },
        "dc": {
          "key": "c9d0e58653"
        }
      },
      "source": [
        "## Explore Lego Sets\n",
        "<p>Another interesting dataset available in this database is the <code>sets</code> data. It contains a comprehensive list of sets over the years and the number of parts that each of these sets contained. </p>\n",
        "<p><img src=\"https://imgur.com/1k4PoXs.png\" alt=\"sets_data\"></p>\n",
        "<p>Let us use this data to explore how the average number of parts in lego sets has varied over the years.</p>"
      ]
    },
    {
      "cell_type": "code",
      "metadata": {
        "tags": [
          "sample_code"
        ],
        "dc": {
          "key": "c9d0e58653"
        }
      },
      "execution_count": 0,
      "outputs": [],
      "source": [
        "%matplotlib inline\n",
        "# Read sets data as `sets`\n",
        "\n",
        "# Create a summary of average number of parts by year: `parts_by_year`\n",
        "\n",
        "# Plot trends in average number of parts by year\n",
        "\n",
        ""
      ]
    },
    {
      "cell_type": "code",
      "execution_count": 0,
      "metadata": {
        "hide": true,
        "tags": [
          "tests"
        ],
        "dc": {
          "key": "c9d0e58653"
        }
      },
      "outputs": [],
      "source": [
        "%%nose\n",
        "def test_sets_exists():\n",
        "    assert 'sets' in globals(), \"You should read the data into a variable named `sets`\"\n",
        "def test_parts_by_year_exists():\n",
        "    assert 'parts_by_year' in globals(), \"You should have defined a variable named `parts_by_year`\""
      ]
    },
    {
      "cell_type": "markdown",
      "metadata": {
        "tags": [
          "context"
        ],
        "deletable": false,
        "editable": false,
        "run_control": {
          "frozen": true
        },
        "dc": {
          "key": "266a3f390c"
        }
      },
      "source": [
        "## Lego Themes Over Years\n",
        "<p>Lego blocks ship under multiple <a href=\"https://shop.lego.com/en-US/Themes\">themes</a>. Let us try to get a sense of how the number of themes shipped has varied over the years.</p>"
      ]
    },
    {
      "cell_type": "code",
      "metadata": {
        "tags": [
          "sample_code"
        ],
        "dc": {
          "key": "266a3f390c"
        }
      },
      "execution_count": 0,
      "outputs": [],
      "source": [
        "# themes_by_year: Number of themes shipped by year\n",
        "# -- YOUR CODE HERE --"
      ]
    },
    {
      "cell_type": "code",
      "execution_count": 0,
      "metadata": {
        "hide": true,
        "tags": [
          "tests"
        ],
        "dc": {
          "key": "266a3f390c"
        }
      },
      "outputs": [],
      "source": [
        "%%nose\n",
        "def test_themes_by_year_exists():\n",
        "    assert 'themes_by_year' in globals(), \"You should have defined a variable named `themes_by_year`\"\n",
        "def test_themes_by_year():\n",
        "    assert themes_by_year.shape == (66, 2), \"The DataFrame themes_by_year should contain 66 rows and 2 columns\"\n",
        "def test_themes_by_year_names():\n",
        "    colnames = ['year', 'theme_id']\n",
        "    assert all(name in themes_by_year for name in colnames), \"Your DataFrame, bnames, should have columns named: year, theme_id\""
      ]
    },
    {
      "cell_type": "markdown",
      "metadata": {
        "tags": [
          "context"
        ],
        "deletable": false,
        "editable": false,
        "run_control": {
          "frozen": true
        },
        "dc": {
          "key": "a293e5076e"
        }
      },
      "source": [
        "## Wrapping It All Up!\n",
        "<p>Lego blocks offer an unlimited amoung of fun across ages. We explored some interesting trends around colors, parts and themes. </p>"
      ]
    },
    {
      "cell_type": "code",
      "metadata": {
        "tags": [
          "sample_code"
        ],
        "dc": {
          "key": "a293e5076e"
        }
      },
      "execution_count": 0,
      "outputs": [],
      "source": [
        "# Nothing to do here"
      ]
    },
    {
      "cell_type": "code",
      "execution_count": 0,
      "metadata": {
        "hide": true,
        "tags": [
          "tests"
        ],
        "dc": {
          "key": "a293e5076e"
        }
      },
      "outputs": [],
      "source": [
        "%%nose\n",
        "def test_default():\n",
        "  assert True"
      ]
    }
  ]
}