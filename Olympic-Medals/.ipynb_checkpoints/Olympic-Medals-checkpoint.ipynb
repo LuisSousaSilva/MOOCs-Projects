{
 "cells": [
  {
   "cell_type": "markdown",
   "metadata": {},
   "source": [
    "##### Project based on the one from datacamp, with olympic medal data compromising records of all events held at the Olympic games between 1896 and 2012. "
   ]
  },
  {
   "cell_type": "code",
   "execution_count": 131,
   "metadata": {},
   "outputs": [
    {
     "data": {
      "text/html": [
       "<script>requirejs.config({paths: { 'plotly': ['https://cdn.plot.ly/plotly-latest.min']},});if(!window.Plotly) {{require(['plotly'],function(plotly) {window.Plotly=plotly;});}}</script>"
      ],
      "text/vnd.plotly.v1+html": [
       "<script>requirejs.config({paths: { 'plotly': ['https://cdn.plot.ly/plotly-latest.min']},});if(!window.Plotly) {{require(['plotly'],function(plotly) {window.Plotly=plotly;});}}</script>"
      ]
     },
     "metadata": {},
     "output_type": "display_data"
    }
   ],
   "source": [
    "import pandas as pd\n",
    "import matplotlib.pyplot as plt\n",
    "import seaborn as sns\n",
    "import plotly.plotly as py\n",
    "import plotly\n",
    "\n",
    "from plotly.offline import download_plotlyjs, init_notebook_mode, plot, iplot\n",
    "\n",
    "# Set plotly offline\n",
    "init_notebook_mode(connected=True)"
   ]
  },
  {
   "cell_type": "code",
   "execution_count": 132,
   "metadata": {},
   "outputs": [],
   "source": [
    "import cufflinks as cf"
   ]
  },
  {
   "cell_type": "code",
   "execution_count": 133,
   "metadata": {
    "collapsed": true
   },
   "outputs": [],
   "source": [
    "pd.options.display.max_rows = 8 # So i can see .head(4) and .tail(4) in the same cell and with only one comand"
   ]
  },
  {
   "cell_type": "code",
   "execution_count": 134,
   "metadata": {
    "collapsed": true
   },
   "outputs": [],
   "source": [
    "medals = pd.read_csv('https://assets.datacamp.com/production/course_1650/datasets/all_medalists.csv')"
   ]
  },
  {
   "cell_type": "code",
   "execution_count": 135,
   "metadata": {},
   "outputs": [
    {
     "data": {
      "text/html": [
       "<div>\n",
       "<style>\n",
       "    .dataframe thead tr:only-child th {\n",
       "        text-align: right;\n",
       "    }\n",
       "\n",
       "    .dataframe thead th {\n",
       "        text-align: left;\n",
       "    }\n",
       "\n",
       "    .dataframe tbody tr th {\n",
       "        vertical-align: top;\n",
       "    }\n",
       "</style>\n",
       "<table border=\"1\" class=\"dataframe\">\n",
       "  <thead>\n",
       "    <tr style=\"text-align: right;\">\n",
       "      <th></th>\n",
       "      <th>City</th>\n",
       "      <th>Edition</th>\n",
       "      <th>Sport</th>\n",
       "      <th>Discipline</th>\n",
       "      <th>Athlete</th>\n",
       "      <th>NOC</th>\n",
       "      <th>Gender</th>\n",
       "      <th>Event</th>\n",
       "      <th>Event_gender</th>\n",
       "      <th>Medal</th>\n",
       "    </tr>\n",
       "  </thead>\n",
       "  <tbody>\n",
       "    <tr>\n",
       "      <th>0</th>\n",
       "      <td>Athens</td>\n",
       "      <td>1896</td>\n",
       "      <td>Aquatics</td>\n",
       "      <td>Swimming</td>\n",
       "      <td>HAJOS, Alfred</td>\n",
       "      <td>HUN</td>\n",
       "      <td>Men</td>\n",
       "      <td>100m freestyle</td>\n",
       "      <td>M</td>\n",
       "      <td>Gold</td>\n",
       "    </tr>\n",
       "    <tr>\n",
       "      <th>1</th>\n",
       "      <td>Athens</td>\n",
       "      <td>1896</td>\n",
       "      <td>Aquatics</td>\n",
       "      <td>Swimming</td>\n",
       "      <td>HERSCHMANN, Otto</td>\n",
       "      <td>AUT</td>\n",
       "      <td>Men</td>\n",
       "      <td>100m freestyle</td>\n",
       "      <td>M</td>\n",
       "      <td>Silver</td>\n",
       "    </tr>\n",
       "    <tr>\n",
       "      <th>2</th>\n",
       "      <td>Athens</td>\n",
       "      <td>1896</td>\n",
       "      <td>Aquatics</td>\n",
       "      <td>Swimming</td>\n",
       "      <td>DRIVAS, Dimitrios</td>\n",
       "      <td>GRE</td>\n",
       "      <td>Men</td>\n",
       "      <td>100m freestyle for sailors</td>\n",
       "      <td>M</td>\n",
       "      <td>Bronze</td>\n",
       "    </tr>\n",
       "    <tr>\n",
       "      <th>3</th>\n",
       "      <td>Athens</td>\n",
       "      <td>1896</td>\n",
       "      <td>Aquatics</td>\n",
       "      <td>Swimming</td>\n",
       "      <td>MALOKINIS, Ioannis</td>\n",
       "      <td>GRE</td>\n",
       "      <td>Men</td>\n",
       "      <td>100m freestyle for sailors</td>\n",
       "      <td>M</td>\n",
       "      <td>Gold</td>\n",
       "    </tr>\n",
       "    <tr>\n",
       "      <th>4</th>\n",
       "      <td>Athens</td>\n",
       "      <td>1896</td>\n",
       "      <td>Aquatics</td>\n",
       "      <td>Swimming</td>\n",
       "      <td>CHASAPIS, Spiridon</td>\n",
       "      <td>GRE</td>\n",
       "      <td>Men</td>\n",
       "      <td>100m freestyle for sailors</td>\n",
       "      <td>M</td>\n",
       "      <td>Silver</td>\n",
       "    </tr>\n",
       "  </tbody>\n",
       "</table>\n",
       "</div>"
      ],
      "text/plain": [
       "     City  Edition     Sport Discipline             Athlete  NOC Gender  \\\n",
       "0  Athens     1896  Aquatics   Swimming       HAJOS, Alfred  HUN    Men   \n",
       "1  Athens     1896  Aquatics   Swimming    HERSCHMANN, Otto  AUT    Men   \n",
       "2  Athens     1896  Aquatics   Swimming   DRIVAS, Dimitrios  GRE    Men   \n",
       "3  Athens     1896  Aquatics   Swimming  MALOKINIS, Ioannis  GRE    Men   \n",
       "4  Athens     1896  Aquatics   Swimming  CHASAPIS, Spiridon  GRE    Men   \n",
       "\n",
       "                        Event Event_gender   Medal  \n",
       "0              100m freestyle            M    Gold  \n",
       "1              100m freestyle            M  Silver  \n",
       "2  100m freestyle for sailors            M  Bronze  \n",
       "3  100m freestyle for sailors            M    Gold  \n",
       "4  100m freestyle for sailors            M  Silver  "
      ]
     },
     "execution_count": 135,
     "metadata": {},
     "output_type": "execute_result"
    }
   ],
   "source": [
    "medals.head()"
   ]
  },
  {
   "cell_type": "markdown",
   "metadata": {},
   "source": [
    "Medals by country"
   ]
  },
  {
   "cell_type": "code",
   "execution_count": 136,
   "metadata": {
    "collapsed": true
   },
   "outputs": [],
   "source": [
    "country_names = medals['NOC']"
   ]
  },
  {
   "cell_type": "code",
   "execution_count": 137,
   "metadata": {
    "collapsed": true
   },
   "outputs": [],
   "source": [
    "medal_counts = country_names.value_counts()"
   ]
  },
  {
   "cell_type": "markdown",
   "metadata": {},
   "source": [
    "Which countries have won the most medals?"
   ]
  },
  {
   "cell_type": "code",
   "execution_count": 138,
   "metadata": {},
   "outputs": [
    {
     "name": "stdout",
     "output_type": "stream",
     "text": [
      "USA    4335\n",
      "URS    2049\n",
      "GBR    1594\n",
      "FRA    1314\n",
      "ITA    1228\n",
      "Name: NOC, dtype: int64\n"
     ]
    }
   ],
   "source": [
    "print(medal_counts.head())"
   ]
  },
  {
   "cell_type": "markdown",
   "metadata": {},
   "source": [
    "How many medals has Portugal (my country) won in the olympics? (Remember this database goes only until 2012)"
   ]
  },
  {
   "cell_type": "code",
   "execution_count": 139,
   "metadata": {},
   "outputs": [
    {
     "data": {
      "text/plain": [
       "POR    31\n",
       "Name: NOC, dtype: int64"
      ]
     },
     "execution_count": 139,
     "metadata": {},
     "output_type": "execute_result"
    }
   ],
   "source": [
    "medal_counts[medal_counts.index == 'POR']"
   ]
  },
  {
   "cell_type": "markdown",
   "metadata": {},
   "source": [
    "How many separate bronze, silver and gold medals has each country won?"
   ]
  },
  {
   "cell_type": "code",
   "execution_count": 140,
   "metadata": {
    "collapsed": true
   },
   "outputs": [],
   "source": [
    "#Making a pivot table to separate type of medal by countries\n",
    "counted = medals.pivot_table(aggfunc='count', index='NOC', columns='Medal', values='Athlete')"
   ]
  },
  {
   "cell_type": "code",
   "execution_count": 141,
   "metadata": {},
   "outputs": [
    {
     "data": {
      "text/html": [
       "<div>\n",
       "<style>\n",
       "    .dataframe thead tr:only-child th {\n",
       "        text-align: right;\n",
       "    }\n",
       "\n",
       "    .dataframe thead th {\n",
       "        text-align: left;\n",
       "    }\n",
       "\n",
       "    .dataframe tbody tr th {\n",
       "        vertical-align: top;\n",
       "    }\n",
       "</style>\n",
       "<table border=\"1\" class=\"dataframe\">\n",
       "  <thead>\n",
       "    <tr style=\"text-align: right;\">\n",
       "      <th>Medal</th>\n",
       "      <th>Bronze</th>\n",
       "      <th>Gold</th>\n",
       "      <th>Silver</th>\n",
       "    </tr>\n",
       "    <tr>\n",
       "      <th>NOC</th>\n",
       "      <th></th>\n",
       "      <th></th>\n",
       "      <th></th>\n",
       "    </tr>\n",
       "  </thead>\n",
       "  <tbody>\n",
       "    <tr>\n",
       "      <th>AFG</th>\n",
       "      <td>1.0</td>\n",
       "      <td>NaN</td>\n",
       "      <td>NaN</td>\n",
       "    </tr>\n",
       "    <tr>\n",
       "      <th>AHO</th>\n",
       "      <td>NaN</td>\n",
       "      <td>NaN</td>\n",
       "      <td>1.0</td>\n",
       "    </tr>\n",
       "    <tr>\n",
       "      <th>ALG</th>\n",
       "      <td>8.0</td>\n",
       "      <td>4.0</td>\n",
       "      <td>2.0</td>\n",
       "    </tr>\n",
       "    <tr>\n",
       "      <th>ANZ</th>\n",
       "      <td>5.0</td>\n",
       "      <td>20.0</td>\n",
       "      <td>4.0</td>\n",
       "    </tr>\n",
       "    <tr>\n",
       "      <th>ARG</th>\n",
       "      <td>88.0</td>\n",
       "      <td>68.0</td>\n",
       "      <td>83.0</td>\n",
       "    </tr>\n",
       "  </tbody>\n",
       "</table>\n",
       "</div>"
      ],
      "text/plain": [
       "Medal  Bronze  Gold  Silver\n",
       "NOC                        \n",
       "AFG       1.0   NaN     NaN\n",
       "AHO       NaN   NaN     1.0\n",
       "ALG       8.0   4.0     2.0\n",
       "ANZ       5.0  20.0     4.0\n",
       "ARG      88.0  68.0    83.0"
      ]
     },
     "execution_count": 141,
     "metadata": {},
     "output_type": "execute_result"
    }
   ],
   "source": [
    "counted.head()"
   ]
  },
  {
   "cell_type": "code",
   "execution_count": 142,
   "metadata": {
    "collapsed": true
   },
   "outputs": [],
   "source": [
    "# Making a new column Total with the sum of the medals\n",
    "counted['Total'] = counted.sum(axis='columns')"
   ]
  },
  {
   "cell_type": "code",
   "execution_count": 143,
   "metadata": {},
   "outputs": [
    {
     "data": {
      "text/html": [
       "<div>\n",
       "<style>\n",
       "    .dataframe thead tr:only-child th {\n",
       "        text-align: right;\n",
       "    }\n",
       "\n",
       "    .dataframe thead th {\n",
       "        text-align: left;\n",
       "    }\n",
       "\n",
       "    .dataframe tbody tr th {\n",
       "        vertical-align: top;\n",
       "    }\n",
       "</style>\n",
       "<table border=\"1\" class=\"dataframe\">\n",
       "  <thead>\n",
       "    <tr style=\"text-align: right;\">\n",
       "      <th>Medal</th>\n",
       "      <th>Bronze</th>\n",
       "      <th>Gold</th>\n",
       "      <th>Silver</th>\n",
       "      <th>Total</th>\n",
       "    </tr>\n",
       "    <tr>\n",
       "      <th>NOC</th>\n",
       "      <th></th>\n",
       "      <th></th>\n",
       "      <th></th>\n",
       "      <th></th>\n",
       "    </tr>\n",
       "  </thead>\n",
       "  <tbody>\n",
       "    <tr>\n",
       "      <th>AFG</th>\n",
       "      <td>1.0</td>\n",
       "      <td>NaN</td>\n",
       "      <td>NaN</td>\n",
       "      <td>1.0</td>\n",
       "    </tr>\n",
       "    <tr>\n",
       "      <th>AHO</th>\n",
       "      <td>NaN</td>\n",
       "      <td>NaN</td>\n",
       "      <td>1.0</td>\n",
       "      <td>1.0</td>\n",
       "    </tr>\n",
       "    <tr>\n",
       "      <th>ALG</th>\n",
       "      <td>8.0</td>\n",
       "      <td>4.0</td>\n",
       "      <td>2.0</td>\n",
       "      <td>14.0</td>\n",
       "    </tr>\n",
       "    <tr>\n",
       "      <th>ANZ</th>\n",
       "      <td>5.0</td>\n",
       "      <td>20.0</td>\n",
       "      <td>4.0</td>\n",
       "      <td>29.0</td>\n",
       "    </tr>\n",
       "    <tr>\n",
       "      <th>ARG</th>\n",
       "      <td>88.0</td>\n",
       "      <td>68.0</td>\n",
       "      <td>83.0</td>\n",
       "      <td>239.0</td>\n",
       "    </tr>\n",
       "  </tbody>\n",
       "</table>\n",
       "</div>"
      ],
      "text/plain": [
       "Medal  Bronze  Gold  Silver  Total\n",
       "NOC                               \n",
       "AFG       1.0   NaN     NaN    1.0\n",
       "AHO       NaN   NaN     1.0    1.0\n",
       "ALG       8.0   4.0     2.0   14.0\n",
       "ANZ       5.0  20.0     4.0   29.0\n",
       "ARG      88.0  68.0    83.0  239.0"
      ]
     },
     "execution_count": 143,
     "metadata": {},
     "output_type": "execute_result"
    }
   ],
   "source": [
    "counted.head()"
   ]
  },
  {
   "cell_type": "code",
   "execution_count": 144,
   "metadata": {
    "collapsed": true
   },
   "outputs": [],
   "source": [
    "# Sorting values by countries that have won the most medals\n",
    "counted = counted.sort_values(by='Total', ascending=False)"
   ]
  },
  {
   "cell_type": "code",
   "execution_count": 145,
   "metadata": {},
   "outputs": [
    {
     "data": {
      "text/html": [
       "<div>\n",
       "<style>\n",
       "    .dataframe thead tr:only-child th {\n",
       "        text-align: right;\n",
       "    }\n",
       "\n",
       "    .dataframe thead th {\n",
       "        text-align: left;\n",
       "    }\n",
       "\n",
       "    .dataframe tbody tr th {\n",
       "        vertical-align: top;\n",
       "    }\n",
       "</style>\n",
       "<table border=\"1\" class=\"dataframe\">\n",
       "  <thead>\n",
       "    <tr style=\"text-align: right;\">\n",
       "      <th>Medal</th>\n",
       "      <th>Bronze</th>\n",
       "      <th>Gold</th>\n",
       "      <th>Silver</th>\n",
       "      <th>Total</th>\n",
       "    </tr>\n",
       "    <tr>\n",
       "      <th>NOC</th>\n",
       "      <th></th>\n",
       "      <th></th>\n",
       "      <th></th>\n",
       "      <th></th>\n",
       "    </tr>\n",
       "  </thead>\n",
       "  <tbody>\n",
       "    <tr>\n",
       "      <th>USA</th>\n",
       "      <td>1052.0</td>\n",
       "      <td>2088.0</td>\n",
       "      <td>1195.0</td>\n",
       "      <td>4335.0</td>\n",
       "    </tr>\n",
       "    <tr>\n",
       "      <th>URS</th>\n",
       "      <td>584.0</td>\n",
       "      <td>838.0</td>\n",
       "      <td>627.0</td>\n",
       "      <td>2049.0</td>\n",
       "    </tr>\n",
       "    <tr>\n",
       "      <th>GBR</th>\n",
       "      <td>505.0</td>\n",
       "      <td>498.0</td>\n",
       "      <td>591.0</td>\n",
       "      <td>1594.0</td>\n",
       "    </tr>\n",
       "    <tr>\n",
       "      <th>FRA</th>\n",
       "      <td>475.0</td>\n",
       "      <td>378.0</td>\n",
       "      <td>461.0</td>\n",
       "      <td>1314.0</td>\n",
       "    </tr>\n",
       "    <tr>\n",
       "      <th>ITA</th>\n",
       "      <td>374.0</td>\n",
       "      <td>460.0</td>\n",
       "      <td>394.0</td>\n",
       "      <td>1228.0</td>\n",
       "    </tr>\n",
       "  </tbody>\n",
       "</table>\n",
       "</div>"
      ],
      "text/plain": [
       "Medal  Bronze    Gold  Silver   Total\n",
       "NOC                                  \n",
       "USA    1052.0  2088.0  1195.0  4335.0\n",
       "URS     584.0   838.0   627.0  2049.0\n",
       "GBR     505.0   498.0   591.0  1594.0\n",
       "FRA     475.0   378.0   461.0  1314.0\n",
       "ITA     374.0   460.0   394.0  1228.0"
      ]
     },
     "execution_count": 145,
     "metadata": {},
     "output_type": "execute_result"
    }
   ],
   "source": [
    "counted.head()"
   ]
  },
  {
   "cell_type": "code",
   "execution_count": 146,
   "metadata": {
    "collapsed": true
   },
   "outputs": [],
   "source": [
    "# Reordering the columns\n",
    "counted = counted[['Gold', 'Silver', 'Bronze', 'Total']]"
   ]
  },
  {
   "cell_type": "code",
   "execution_count": 147,
   "metadata": {},
   "outputs": [
    {
     "data": {
      "text/html": [
       "<div>\n",
       "<style>\n",
       "    .dataframe thead tr:only-child th {\n",
       "        text-align: right;\n",
       "    }\n",
       "\n",
       "    .dataframe thead th {\n",
       "        text-align: left;\n",
       "    }\n",
       "\n",
       "    .dataframe tbody tr th {\n",
       "        vertical-align: top;\n",
       "    }\n",
       "</style>\n",
       "<table border=\"1\" class=\"dataframe\">\n",
       "  <thead>\n",
       "    <tr style=\"text-align: right;\">\n",
       "      <th>Medal</th>\n",
       "      <th>Gold</th>\n",
       "      <th>Silver</th>\n",
       "      <th>Bronze</th>\n",
       "      <th>Total</th>\n",
       "    </tr>\n",
       "    <tr>\n",
       "      <th>NOC</th>\n",
       "      <th></th>\n",
       "      <th></th>\n",
       "      <th></th>\n",
       "      <th></th>\n",
       "    </tr>\n",
       "  </thead>\n",
       "  <tbody>\n",
       "    <tr>\n",
       "      <th>USA</th>\n",
       "      <td>2088.0</td>\n",
       "      <td>1195.0</td>\n",
       "      <td>1052.0</td>\n",
       "      <td>4335.0</td>\n",
       "    </tr>\n",
       "    <tr>\n",
       "      <th>URS</th>\n",
       "      <td>838.0</td>\n",
       "      <td>627.0</td>\n",
       "      <td>584.0</td>\n",
       "      <td>2049.0</td>\n",
       "    </tr>\n",
       "    <tr>\n",
       "      <th>GBR</th>\n",
       "      <td>498.0</td>\n",
       "      <td>591.0</td>\n",
       "      <td>505.0</td>\n",
       "      <td>1594.0</td>\n",
       "    </tr>\n",
       "    <tr>\n",
       "      <th>FRA</th>\n",
       "      <td>378.0</td>\n",
       "      <td>461.0</td>\n",
       "      <td>475.0</td>\n",
       "      <td>1314.0</td>\n",
       "    </tr>\n",
       "    <tr>\n",
       "      <th>ITA</th>\n",
       "      <td>460.0</td>\n",
       "      <td>394.0</td>\n",
       "      <td>374.0</td>\n",
       "      <td>1228.0</td>\n",
       "    </tr>\n",
       "  </tbody>\n",
       "</table>\n",
       "</div>"
      ],
      "text/plain": [
       "Medal    Gold  Silver  Bronze   Total\n",
       "NOC                                  \n",
       "USA    2088.0  1195.0  1052.0  4335.0\n",
       "URS     838.0   627.0   584.0  2049.0\n",
       "GBR     498.0   591.0   505.0  1594.0\n",
       "FRA     378.0   461.0   475.0  1314.0\n",
       "ITA     460.0   394.0   374.0  1228.0"
      ]
     },
     "execution_count": 147,
     "metadata": {},
     "output_type": "execute_result"
    }
   ],
   "source": [
    "counted.head()"
   ]
  },
  {
   "cell_type": "markdown",
   "metadata": {},
   "source": [
    "Let's see how my country (Portugal) did for each medal"
   ]
  },
  {
   "cell_type": "code",
   "execution_count": 148,
   "metadata": {},
   "outputs": [
    {
     "data": {
      "text/html": [
       "<div>\n",
       "<style>\n",
       "    .dataframe thead tr:only-child th {\n",
       "        text-align: right;\n",
       "    }\n",
       "\n",
       "    .dataframe thead th {\n",
       "        text-align: left;\n",
       "    }\n",
       "\n",
       "    .dataframe tbody tr th {\n",
       "        vertical-align: top;\n",
       "    }\n",
       "</style>\n",
       "<table border=\"1\" class=\"dataframe\">\n",
       "  <thead>\n",
       "    <tr style=\"text-align: right;\">\n",
       "      <th>Medal</th>\n",
       "      <th>Gold</th>\n",
       "      <th>Silver</th>\n",
       "      <th>Bronze</th>\n",
       "      <th>Total</th>\n",
       "    </tr>\n",
       "    <tr>\n",
       "      <th>NOC</th>\n",
       "      <th></th>\n",
       "      <th></th>\n",
       "      <th></th>\n",
       "      <th></th>\n",
       "    </tr>\n",
       "  </thead>\n",
       "  <tbody>\n",
       "    <tr>\n",
       "      <th>POR</th>\n",
       "      <td>4.0</td>\n",
       "      <td>9.0</td>\n",
       "      <td>18.0</td>\n",
       "      <td>31.0</td>\n",
       "    </tr>\n",
       "  </tbody>\n",
       "</table>\n",
       "</div>"
      ],
      "text/plain": [
       "Medal  Gold  Silver  Bronze  Total\n",
       "NOC                               \n",
       "POR     4.0     9.0    18.0   31.0"
      ]
     },
     "execution_count": 148,
     "metadata": {},
     "output_type": "execute_result"
    }
   ],
   "source": [
    "counted[counted.index == 'POR']"
   ]
  },
  {
   "cell_type": "markdown",
   "metadata": {},
   "source": [
    "Which countries won the most medals in the 1936 Edition in nazi germany?"
   ]
  },
  {
   "cell_type": "code",
   "execution_count": 149,
   "metadata": {},
   "outputs": [
    {
     "data": {
      "text/html": [
       "<div>\n",
       "<style>\n",
       "    .dataframe thead tr:only-child th {\n",
       "        text-align: right;\n",
       "    }\n",
       "\n",
       "    .dataframe thead th {\n",
       "        text-align: left;\n",
       "    }\n",
       "\n",
       "    .dataframe tbody tr th {\n",
       "        vertical-align: top;\n",
       "    }\n",
       "</style>\n",
       "<table border=\"1\" class=\"dataframe\">\n",
       "  <thead>\n",
       "    <tr style=\"text-align: right;\">\n",
       "      <th></th>\n",
       "      <th>City</th>\n",
       "      <th>Edition</th>\n",
       "      <th>Sport</th>\n",
       "      <th>Discipline</th>\n",
       "      <th>Athlete</th>\n",
       "      <th>NOC</th>\n",
       "      <th>Gender</th>\n",
       "      <th>Event</th>\n",
       "      <th>Event_gender</th>\n",
       "      <th>Medal</th>\n",
       "    </tr>\n",
       "  </thead>\n",
       "  <tbody>\n",
       "    <tr>\n",
       "      <th>0</th>\n",
       "      <td>Athens</td>\n",
       "      <td>1896</td>\n",
       "      <td>Aquatics</td>\n",
       "      <td>Swimming</td>\n",
       "      <td>HAJOS, Alfred</td>\n",
       "      <td>HUN</td>\n",
       "      <td>Men</td>\n",
       "      <td>100m freestyle</td>\n",
       "      <td>M</td>\n",
       "      <td>Gold</td>\n",
       "    </tr>\n",
       "    <tr>\n",
       "      <th>1</th>\n",
       "      <td>Athens</td>\n",
       "      <td>1896</td>\n",
       "      <td>Aquatics</td>\n",
       "      <td>Swimming</td>\n",
       "      <td>HERSCHMANN, Otto</td>\n",
       "      <td>AUT</td>\n",
       "      <td>Men</td>\n",
       "      <td>100m freestyle</td>\n",
       "      <td>M</td>\n",
       "      <td>Silver</td>\n",
       "    </tr>\n",
       "    <tr>\n",
       "      <th>2</th>\n",
       "      <td>Athens</td>\n",
       "      <td>1896</td>\n",
       "      <td>Aquatics</td>\n",
       "      <td>Swimming</td>\n",
       "      <td>DRIVAS, Dimitrios</td>\n",
       "      <td>GRE</td>\n",
       "      <td>Men</td>\n",
       "      <td>100m freestyle for sailors</td>\n",
       "      <td>M</td>\n",
       "      <td>Bronze</td>\n",
       "    </tr>\n",
       "    <tr>\n",
       "      <th>3</th>\n",
       "      <td>Athens</td>\n",
       "      <td>1896</td>\n",
       "      <td>Aquatics</td>\n",
       "      <td>Swimming</td>\n",
       "      <td>MALOKINIS, Ioannis</td>\n",
       "      <td>GRE</td>\n",
       "      <td>Men</td>\n",
       "      <td>100m freestyle for sailors</td>\n",
       "      <td>M</td>\n",
       "      <td>Gold</td>\n",
       "    </tr>\n",
       "    <tr>\n",
       "      <th>4</th>\n",
       "      <td>Athens</td>\n",
       "      <td>1896</td>\n",
       "      <td>Aquatics</td>\n",
       "      <td>Swimming</td>\n",
       "      <td>CHASAPIS, Spiridon</td>\n",
       "      <td>GRE</td>\n",
       "      <td>Men</td>\n",
       "      <td>100m freestyle for sailors</td>\n",
       "      <td>M</td>\n",
       "      <td>Silver</td>\n",
       "    </tr>\n",
       "  </tbody>\n",
       "</table>\n",
       "</div>"
      ],
      "text/plain": [
       "     City  Edition     Sport Discipline             Athlete  NOC Gender  \\\n",
       "0  Athens     1896  Aquatics   Swimming       HAJOS, Alfred  HUN    Men   \n",
       "1  Athens     1896  Aquatics   Swimming    HERSCHMANN, Otto  AUT    Men   \n",
       "2  Athens     1896  Aquatics   Swimming   DRIVAS, Dimitrios  GRE    Men   \n",
       "3  Athens     1896  Aquatics   Swimming  MALOKINIS, Ioannis  GRE    Men   \n",
       "4  Athens     1896  Aquatics   Swimming  CHASAPIS, Spiridon  GRE    Men   \n",
       "\n",
       "                        Event Event_gender   Medal  \n",
       "0              100m freestyle            M    Gold  \n",
       "1              100m freestyle            M  Silver  \n",
       "2  100m freestyle for sailors            M  Bronze  \n",
       "3  100m freestyle for sailors            M    Gold  \n",
       "4  100m freestyle for sailors            M  Silver  "
      ]
     },
     "execution_count": 149,
     "metadata": {},
     "output_type": "execute_result"
    }
   ],
   "source": [
    "# Let's take a peak on the main DataFrame again\n",
    "medals.head()"
   ]
  },
  {
   "cell_type": "code",
   "execution_count": 150,
   "metadata": {
    "collapsed": true
   },
   "outputs": [],
   "source": [
    "# Making a pivot table to separate Edition by countries\n",
    "medals_by_edition = medals.pivot_table(aggfunc='count', index='NOC', columns='Edition', values='Athlete')"
   ]
  },
  {
   "cell_type": "code",
   "execution_count": 151,
   "metadata": {},
   "outputs": [
    {
     "data": {
      "text/html": [
       "<div>\n",
       "<style>\n",
       "    .dataframe thead tr:only-child th {\n",
       "        text-align: right;\n",
       "    }\n",
       "\n",
       "    .dataframe thead th {\n",
       "        text-align: left;\n",
       "    }\n",
       "\n",
       "    .dataframe tbody tr th {\n",
       "        vertical-align: top;\n",
       "    }\n",
       "</style>\n",
       "<table border=\"1\" class=\"dataframe\">\n",
       "  <thead>\n",
       "    <tr style=\"text-align: right;\">\n",
       "      <th>Edition</th>\n",
       "      <th>1896</th>\n",
       "      <th>1900</th>\n",
       "      <th>1904</th>\n",
       "      <th>1908</th>\n",
       "      <th>1912</th>\n",
       "      <th>1920</th>\n",
       "      <th>1924</th>\n",
       "      <th>1928</th>\n",
       "      <th>1932</th>\n",
       "      <th>1936</th>\n",
       "      <th>...</th>\n",
       "      <th>1972</th>\n",
       "      <th>1976</th>\n",
       "      <th>1980</th>\n",
       "      <th>1984</th>\n",
       "      <th>1988</th>\n",
       "      <th>1992</th>\n",
       "      <th>1996</th>\n",
       "      <th>2000</th>\n",
       "      <th>2004</th>\n",
       "      <th>2008</th>\n",
       "    </tr>\n",
       "    <tr>\n",
       "      <th>NOC</th>\n",
       "      <th></th>\n",
       "      <th></th>\n",
       "      <th></th>\n",
       "      <th></th>\n",
       "      <th></th>\n",
       "      <th></th>\n",
       "      <th></th>\n",
       "      <th></th>\n",
       "      <th></th>\n",
       "      <th></th>\n",
       "      <th></th>\n",
       "      <th></th>\n",
       "      <th></th>\n",
       "      <th></th>\n",
       "      <th></th>\n",
       "      <th></th>\n",
       "      <th></th>\n",
       "      <th></th>\n",
       "      <th></th>\n",
       "      <th></th>\n",
       "      <th></th>\n",
       "    </tr>\n",
       "  </thead>\n",
       "  <tbody>\n",
       "    <tr>\n",
       "      <th>AFG</th>\n",
       "      <td>NaN</td>\n",
       "      <td>NaN</td>\n",
       "      <td>NaN</td>\n",
       "      <td>NaN</td>\n",
       "      <td>NaN</td>\n",
       "      <td>NaN</td>\n",
       "      <td>NaN</td>\n",
       "      <td>NaN</td>\n",
       "      <td>NaN</td>\n",
       "      <td>NaN</td>\n",
       "      <td>...</td>\n",
       "      <td>NaN</td>\n",
       "      <td>NaN</td>\n",
       "      <td>NaN</td>\n",
       "      <td>NaN</td>\n",
       "      <td>NaN</td>\n",
       "      <td>NaN</td>\n",
       "      <td>NaN</td>\n",
       "      <td>NaN</td>\n",
       "      <td>NaN</td>\n",
       "      <td>1.0</td>\n",
       "    </tr>\n",
       "    <tr>\n",
       "      <th>AHO</th>\n",
       "      <td>NaN</td>\n",
       "      <td>NaN</td>\n",
       "      <td>NaN</td>\n",
       "      <td>NaN</td>\n",
       "      <td>NaN</td>\n",
       "      <td>NaN</td>\n",
       "      <td>NaN</td>\n",
       "      <td>NaN</td>\n",
       "      <td>NaN</td>\n",
       "      <td>NaN</td>\n",
       "      <td>...</td>\n",
       "      <td>NaN</td>\n",
       "      <td>NaN</td>\n",
       "      <td>NaN</td>\n",
       "      <td>NaN</td>\n",
       "      <td>1.0</td>\n",
       "      <td>NaN</td>\n",
       "      <td>NaN</td>\n",
       "      <td>NaN</td>\n",
       "      <td>NaN</td>\n",
       "      <td>NaN</td>\n",
       "    </tr>\n",
       "    <tr>\n",
       "      <th>ALG</th>\n",
       "      <td>NaN</td>\n",
       "      <td>NaN</td>\n",
       "      <td>NaN</td>\n",
       "      <td>NaN</td>\n",
       "      <td>NaN</td>\n",
       "      <td>NaN</td>\n",
       "      <td>NaN</td>\n",
       "      <td>NaN</td>\n",
       "      <td>NaN</td>\n",
       "      <td>NaN</td>\n",
       "      <td>...</td>\n",
       "      <td>NaN</td>\n",
       "      <td>NaN</td>\n",
       "      <td>NaN</td>\n",
       "      <td>2.0</td>\n",
       "      <td>NaN</td>\n",
       "      <td>2.0</td>\n",
       "      <td>3.0</td>\n",
       "      <td>5.0</td>\n",
       "      <td>NaN</td>\n",
       "      <td>2.0</td>\n",
       "    </tr>\n",
       "    <tr>\n",
       "      <th>ANZ</th>\n",
       "      <td>NaN</td>\n",
       "      <td>NaN</td>\n",
       "      <td>NaN</td>\n",
       "      <td>19.0</td>\n",
       "      <td>10.0</td>\n",
       "      <td>NaN</td>\n",
       "      <td>NaN</td>\n",
       "      <td>NaN</td>\n",
       "      <td>NaN</td>\n",
       "      <td>NaN</td>\n",
       "      <td>...</td>\n",
       "      <td>NaN</td>\n",
       "      <td>NaN</td>\n",
       "      <td>NaN</td>\n",
       "      <td>NaN</td>\n",
       "      <td>NaN</td>\n",
       "      <td>NaN</td>\n",
       "      <td>NaN</td>\n",
       "      <td>NaN</td>\n",
       "      <td>NaN</td>\n",
       "      <td>NaN</td>\n",
       "    </tr>\n",
       "    <tr>\n",
       "      <th>ARG</th>\n",
       "      <td>NaN</td>\n",
       "      <td>NaN</td>\n",
       "      <td>NaN</td>\n",
       "      <td>NaN</td>\n",
       "      <td>NaN</td>\n",
       "      <td>NaN</td>\n",
       "      <td>11.0</td>\n",
       "      <td>32.0</td>\n",
       "      <td>4.0</td>\n",
       "      <td>11.0</td>\n",
       "      <td>...</td>\n",
       "      <td>1.0</td>\n",
       "      <td>NaN</td>\n",
       "      <td>NaN</td>\n",
       "      <td>NaN</td>\n",
       "      <td>13.0</td>\n",
       "      <td>2.0</td>\n",
       "      <td>20.0</td>\n",
       "      <td>20.0</td>\n",
       "      <td>47.0</td>\n",
       "      <td>51.0</td>\n",
       "    </tr>\n",
       "  </tbody>\n",
       "</table>\n",
       "<p>5 rows × 26 columns</p>\n",
       "</div>"
      ],
      "text/plain": [
       "Edition  1896  1900  1904  1908  1912  1920  1924  1928  1932  1936  ...   \\\n",
       "NOC                                                                  ...    \n",
       "AFG       NaN   NaN   NaN   NaN   NaN   NaN   NaN   NaN   NaN   NaN  ...    \n",
       "AHO       NaN   NaN   NaN   NaN   NaN   NaN   NaN   NaN   NaN   NaN  ...    \n",
       "ALG       NaN   NaN   NaN   NaN   NaN   NaN   NaN   NaN   NaN   NaN  ...    \n",
       "ANZ       NaN   NaN   NaN  19.0  10.0   NaN   NaN   NaN   NaN   NaN  ...    \n",
       "ARG       NaN   NaN   NaN   NaN   NaN   NaN  11.0  32.0   4.0  11.0  ...    \n",
       "\n",
       "Edition  1972  1976  1980  1984  1988  1992  1996  2000  2004  2008  \n",
       "NOC                                                                  \n",
       "AFG       NaN   NaN   NaN   NaN   NaN   NaN   NaN   NaN   NaN   1.0  \n",
       "AHO       NaN   NaN   NaN   NaN   1.0   NaN   NaN   NaN   NaN   NaN  \n",
       "ALG       NaN   NaN   NaN   2.0   NaN   2.0   3.0   5.0   NaN   2.0  \n",
       "ANZ       NaN   NaN   NaN   NaN   NaN   NaN   NaN   NaN   NaN   NaN  \n",
       "ARG       1.0   NaN   NaN   NaN  13.0   2.0  20.0  20.0  47.0  51.0  \n",
       "\n",
       "[5 rows x 26 columns]"
      ]
     },
     "execution_count": 151,
     "metadata": {},
     "output_type": "execute_result"
    }
   ],
   "source": [
    "medals_by_edition.head()"
   ]
  },
  {
   "cell_type": "code",
   "execution_count": 152,
   "metadata": {},
   "outputs": [
    {
     "data": {
      "text/plain": [
       "NOC\n",
       "GER    210.0\n",
       "USA     92.0\n",
       "ITA     71.0\n",
       "AUT     50.0\n",
       "SUI     47.0\n",
       "Name: 1936, dtype: float64"
      ]
     },
     "execution_count": 152,
     "metadata": {},
     "output_type": "execute_result"
    }
   ],
   "source": [
    "medals_by_edition.loc[:, 1936].sort_values(ascending=False).head()"
   ]
  },
  {
   "cell_type": "markdown",
   "metadata": {},
   "source": [
    "Do you think that maybe there was home bias for the host country? Let's see how Germany did in terms of medals in the editions just before 1936. "
   ]
  },
  {
   "cell_type": "markdown",
   "metadata": {},
   "source": [
    "Medals in the 1932 edition"
   ]
  },
  {
   "cell_type": "code",
   "execution_count": 153,
   "metadata": {},
   "outputs": [
    {
     "data": {
      "text/plain": [
       "38.0"
      ]
     },
     "execution_count": 153,
     "metadata": {},
     "output_type": "execute_result"
    }
   ],
   "source": [
    "medals_by_edition.loc['GER', 1932]"
   ]
  },
  {
   "cell_type": "markdown",
   "metadata": {},
   "source": [
    "Medals in the 1928 edition"
   ]
  },
  {
   "cell_type": "code",
   "execution_count": 154,
   "metadata": {},
   "outputs": [
    {
     "data": {
      "text/plain": [
       "72.0"
      ]
     },
     "execution_count": 154,
     "metadata": {},
     "output_type": "execute_result"
    }
   ],
   "source": [
    "medals_by_edition.loc['GER', 1928]"
   ]
  },
  {
   "cell_type": "markdown",
   "metadata": {},
   "source": [
    "###### Cleaning the data"
   ]
  },
  {
   "cell_type": "markdown",
   "metadata": {},
   "source": [
    "What could be the difference between the 'Event_gender' and 'Gender' columns? You should be able to evaluate your guess by looking\n",
    "at the unique values of the pairs (Event_gender, Gender) in the data. In particular, you should not see something like\n",
    "(Event_gender='M', Gender='Women'). However, you will see that, strangely enough, there is an observation with\n",
    "(Event_gender='W', Gender='Men')"
   ]
  },
  {
   "cell_type": "code",
   "execution_count": 155,
   "metadata": {
    "collapsed": true
   },
   "outputs": [],
   "source": [
    "# Selecting both columns for comparison\n",
    "ev_gen = medals[['Event_gender', 'Gender']]"
   ]
  },
  {
   "cell_type": "code",
   "execution_count": 156,
   "metadata": {
    "collapsed": true
   },
   "outputs": [],
   "source": [
    "# Dropping duplicates\n",
    "ev_gen_uniques = ev_gen.drop_duplicates()"
   ]
  },
  {
   "cell_type": "code",
   "execution_count": 157,
   "metadata": {
    "collapsed": true
   },
   "outputs": [],
   "source": [
    "medals_by_gender = medals.groupby(['Event_gender', 'Gender'])"
   ]
  },
  {
   "cell_type": "code",
   "execution_count": 158,
   "metadata": {},
   "outputs": [
    {
     "data": {
      "text/html": [
       "<div>\n",
       "<style>\n",
       "    .dataframe thead tr:only-child th {\n",
       "        text-align: right;\n",
       "    }\n",
       "\n",
       "    .dataframe thead th {\n",
       "        text-align: left;\n",
       "    }\n",
       "\n",
       "    .dataframe tbody tr th {\n",
       "        vertical-align: top;\n",
       "    }\n",
       "</style>\n",
       "<table border=\"1\" class=\"dataframe\">\n",
       "  <thead>\n",
       "    <tr style=\"text-align: right;\">\n",
       "      <th></th>\n",
       "      <th>City</th>\n",
       "      <th>Edition</th>\n",
       "      <th>Sport</th>\n",
       "      <th>Discipline</th>\n",
       "      <th>Athlete</th>\n",
       "      <th>NOC</th>\n",
       "      <th>Gender</th>\n",
       "      <th>Event</th>\n",
       "      <th>Event_gender</th>\n",
       "      <th>Medal</th>\n",
       "    </tr>\n",
       "  </thead>\n",
       "  <tbody>\n",
       "    <tr>\n",
       "      <th>0</th>\n",
       "      <td>Athens</td>\n",
       "      <td>1896</td>\n",
       "      <td>Aquatics</td>\n",
       "      <td>Swimming</td>\n",
       "      <td>HAJOS, Alfred</td>\n",
       "      <td>HUN</td>\n",
       "      <td>Men</td>\n",
       "      <td>100m freestyle</td>\n",
       "      <td>M</td>\n",
       "      <td>Gold</td>\n",
       "    </tr>\n",
       "    <tr>\n",
       "      <th>348</th>\n",
       "      <td>Paris</td>\n",
       "      <td>1900</td>\n",
       "      <td>Equestrian</td>\n",
       "      <td>Jumping</td>\n",
       "      <td>VAN DE POELE, Georges</td>\n",
       "      <td>BEL</td>\n",
       "      <td>Men</td>\n",
       "      <td>high jump</td>\n",
       "      <td>X</td>\n",
       "      <td>Bronze</td>\n",
       "    </tr>\n",
       "    <tr>\n",
       "      <th>416</th>\n",
       "      <td>Paris</td>\n",
       "      <td>1900</td>\n",
       "      <td>Golf</td>\n",
       "      <td>Golf</td>\n",
       "      <td>PRATT, Daria</td>\n",
       "      <td>USA</td>\n",
       "      <td>Women</td>\n",
       "      <td>individual</td>\n",
       "      <td>W</td>\n",
       "      <td>Bronze</td>\n",
       "    </tr>\n",
       "    <tr>\n",
       "      <th>639</th>\n",
       "      <td>Paris</td>\n",
       "      <td>1900</td>\n",
       "      <td>Tennis</td>\n",
       "      <td>Tennis</td>\n",
       "      <td>JONES, Marion</td>\n",
       "      <td>ZZX</td>\n",
       "      <td>Women</td>\n",
       "      <td>mixed doubles</td>\n",
       "      <td>X</td>\n",
       "      <td>Bronze</td>\n",
       "    </tr>\n",
       "    <tr>\n",
       "      <th>23675</th>\n",
       "      <td>Sydney</td>\n",
       "      <td>2000</td>\n",
       "      <td>Athletics</td>\n",
       "      <td>Athletics</td>\n",
       "      <td>CHEPCHUMBA, Joyce</td>\n",
       "      <td>KEN</td>\n",
       "      <td>Men</td>\n",
       "      <td>marathon</td>\n",
       "      <td>W</td>\n",
       "      <td>Bronze</td>\n",
       "    </tr>\n",
       "  </tbody>\n",
       "</table>\n",
       "</div>"
      ],
      "text/plain": [
       "         City  Edition       Sport Discipline                Athlete  NOC  \\\n",
       "0      Athens     1896    Aquatics   Swimming          HAJOS, Alfred  HUN   \n",
       "348     Paris     1900  Equestrian    Jumping  VAN DE POELE, Georges  BEL   \n",
       "416     Paris     1900        Golf       Golf           PRATT, Daria  USA   \n",
       "639     Paris     1900      Tennis     Tennis          JONES, Marion  ZZX   \n",
       "23675  Sydney     2000   Athletics  Athletics      CHEPCHUMBA, Joyce  KEN   \n",
       "\n",
       "      Gender           Event Event_gender   Medal  \n",
       "0        Men  100m freestyle            M    Gold  \n",
       "348      Men       high jump            X  Bronze  \n",
       "416    Women      individual            W  Bronze  \n",
       "639    Women   mixed doubles            X  Bronze  \n",
       "23675    Men        marathon            W  Bronze  "
      ]
     },
     "execution_count": 158,
     "metadata": {},
     "output_type": "execute_result"
    }
   ],
   "source": [
    "medals_by_gender.head(1)"
   ]
  },
  {
   "cell_type": "code",
   "execution_count": 159,
   "metadata": {
    "collapsed": true
   },
   "outputs": [],
   "source": [
    "medal_count_by_gender = medals_by_gender.count()"
   ]
  },
  {
   "cell_type": "code",
   "execution_count": 160,
   "metadata": {},
   "outputs": [
    {
     "data": {
      "text/html": [
       "<div>\n",
       "<style>\n",
       "    .dataframe thead tr:only-child th {\n",
       "        text-align: right;\n",
       "    }\n",
       "\n",
       "    .dataframe thead th {\n",
       "        text-align: left;\n",
       "    }\n",
       "\n",
       "    .dataframe tbody tr th {\n",
       "        vertical-align: top;\n",
       "    }\n",
       "</style>\n",
       "<table border=\"1\" class=\"dataframe\">\n",
       "  <thead>\n",
       "    <tr style=\"text-align: right;\">\n",
       "      <th></th>\n",
       "      <th></th>\n",
       "      <th>City</th>\n",
       "      <th>Edition</th>\n",
       "      <th>Sport</th>\n",
       "      <th>Discipline</th>\n",
       "      <th>Athlete</th>\n",
       "      <th>NOC</th>\n",
       "      <th>Event</th>\n",
       "      <th>Medal</th>\n",
       "    </tr>\n",
       "    <tr>\n",
       "      <th>Event_gender</th>\n",
       "      <th>Gender</th>\n",
       "      <th></th>\n",
       "      <th></th>\n",
       "      <th></th>\n",
       "      <th></th>\n",
       "      <th></th>\n",
       "      <th></th>\n",
       "      <th></th>\n",
       "      <th></th>\n",
       "    </tr>\n",
       "  </thead>\n",
       "  <tbody>\n",
       "    <tr>\n",
       "      <th>M</th>\n",
       "      <th>Men</th>\n",
       "      <td>20067</td>\n",
       "      <td>20067</td>\n",
       "      <td>20067</td>\n",
       "      <td>20067</td>\n",
       "      <td>20067</td>\n",
       "      <td>20067</td>\n",
       "      <td>20067</td>\n",
       "      <td>20067</td>\n",
       "    </tr>\n",
       "    <tr>\n",
       "      <th rowspan=\"2\" valign=\"top\">W</th>\n",
       "      <th>Men</th>\n",
       "      <td>1</td>\n",
       "      <td>1</td>\n",
       "      <td>1</td>\n",
       "      <td>1</td>\n",
       "      <td>1</td>\n",
       "      <td>1</td>\n",
       "      <td>1</td>\n",
       "      <td>1</td>\n",
       "    </tr>\n",
       "    <tr>\n",
       "      <th>Women</th>\n",
       "      <td>7277</td>\n",
       "      <td>7277</td>\n",
       "      <td>7277</td>\n",
       "      <td>7277</td>\n",
       "      <td>7277</td>\n",
       "      <td>7277</td>\n",
       "      <td>7277</td>\n",
       "      <td>7277</td>\n",
       "    </tr>\n",
       "    <tr>\n",
       "      <th rowspan=\"2\" valign=\"top\">X</th>\n",
       "      <th>Men</th>\n",
       "      <td>1653</td>\n",
       "      <td>1653</td>\n",
       "      <td>1653</td>\n",
       "      <td>1653</td>\n",
       "      <td>1653</td>\n",
       "      <td>1653</td>\n",
       "      <td>1653</td>\n",
       "      <td>1653</td>\n",
       "    </tr>\n",
       "    <tr>\n",
       "      <th>Women</th>\n",
       "      <td>218</td>\n",
       "      <td>218</td>\n",
       "      <td>218</td>\n",
       "      <td>218</td>\n",
       "      <td>218</td>\n",
       "      <td>218</td>\n",
       "      <td>218</td>\n",
       "      <td>218</td>\n",
       "    </tr>\n",
       "  </tbody>\n",
       "</table>\n",
       "</div>"
      ],
      "text/plain": [
       "                      City  Edition  Sport  Discipline  Athlete    NOC  Event  \\\n",
       "Event_gender Gender                                                             \n",
       "M            Men     20067    20067  20067       20067    20067  20067  20067   \n",
       "W            Men         1        1      1           1        1      1      1   \n",
       "             Women    7277     7277   7277        7277     7277   7277   7277   \n",
       "X            Men      1653     1653   1653        1653     1653   1653   1653   \n",
       "             Women     218      218    218         218      218    218    218   \n",
       "\n",
       "                     Medal  \n",
       "Event_gender Gender         \n",
       "M            Men     20067  \n",
       "W            Men         1  \n",
       "             Women    7277  \n",
       "X            Men      1653  \n",
       "             Women     218  "
      ]
     },
     "execution_count": 160,
     "metadata": {},
     "output_type": "execute_result"
    }
   ],
   "source": [
    "medal_count_by_gender.head()"
   ]
  },
  {
   "cell_type": "markdown",
   "metadata": {},
   "source": [
    "We can see the data error with Event_gender 'W' and Gender 'Men."
   ]
  },
  {
   "cell_type": "markdown",
   "metadata": {},
   "source": [
    "We will now inspect the suspect record by locating the offending row."
   ]
  },
  {
   "cell_type": "code",
   "execution_count": 161,
   "metadata": {},
   "outputs": [
    {
     "data": {
      "text/html": [
       "<div>\n",
       "<style>\n",
       "    .dataframe thead tr:only-child th {\n",
       "        text-align: right;\n",
       "    }\n",
       "\n",
       "    .dataframe thead th {\n",
       "        text-align: left;\n",
       "    }\n",
       "\n",
       "    .dataframe tbody tr th {\n",
       "        vertical-align: top;\n",
       "    }\n",
       "</style>\n",
       "<table border=\"1\" class=\"dataframe\">\n",
       "  <thead>\n",
       "    <tr style=\"text-align: right;\">\n",
       "      <th></th>\n",
       "      <th>City</th>\n",
       "      <th>Edition</th>\n",
       "      <th>Sport</th>\n",
       "      <th>Discipline</th>\n",
       "      <th>Athlete</th>\n",
       "      <th>NOC</th>\n",
       "      <th>Gender</th>\n",
       "      <th>Event</th>\n",
       "      <th>Event_gender</th>\n",
       "      <th>Medal</th>\n",
       "    </tr>\n",
       "  </thead>\n",
       "  <tbody>\n",
       "    <tr>\n",
       "      <th>23675</th>\n",
       "      <td>Sydney</td>\n",
       "      <td>2000</td>\n",
       "      <td>Athletics</td>\n",
       "      <td>Athletics</td>\n",
       "      <td>CHEPCHUMBA, Joyce</td>\n",
       "      <td>KEN</td>\n",
       "      <td>Men</td>\n",
       "      <td>marathon</td>\n",
       "      <td>W</td>\n",
       "      <td>Bronze</td>\n",
       "    </tr>\n",
       "  </tbody>\n",
       "</table>\n",
       "</div>"
      ],
      "text/plain": [
       "         City  Edition      Sport Discipline            Athlete  NOC Gender  \\\n",
       "23675  Sydney     2000  Athletics  Athletics  CHEPCHUMBA, Joyce  KEN    Men   \n",
       "\n",
       "          Event Event_gender   Medal  \n",
       "23675  marathon            W  Bronze  "
      ]
     },
     "execution_count": 161,
     "metadata": {},
     "output_type": "execute_result"
    }
   ],
   "source": [
    "# Creating boolean series for filtering\n",
    "# Even gender 'W' AND Gender 'Men'\n",
    "filters = (medals.Event_gender == 'W') & (medals.Gender == 'Men')\n",
    "\n",
    "# Filtering the dataframe\n",
    "medals[filters]"
   ]
  },
  {
   "cell_type": "code",
   "execution_count": 162,
   "metadata": {},
   "outputs": [],
   "source": [
    "# Making a copy of medals to correct (You shouldn't mess with the original data)\n",
    "medals_clean = medals.copy()"
   ]
  },
  {
   "cell_type": "code",
   "execution_count": 163,
   "metadata": {
    "collapsed": true
   },
   "outputs": [],
   "source": [
    "medals_clean.iloc[23675, 6] = 'Women'"
   ]
  },
  {
   "cell_type": "code",
   "execution_count": 164,
   "metadata": {},
   "outputs": [
    {
     "data": {
      "text/html": [
       "<div>\n",
       "<style>\n",
       "    .dataframe thead tr:only-child th {\n",
       "        text-align: right;\n",
       "    }\n",
       "\n",
       "    .dataframe thead th {\n",
       "        text-align: left;\n",
       "    }\n",
       "\n",
       "    .dataframe tbody tr th {\n",
       "        vertical-align: top;\n",
       "    }\n",
       "</style>\n",
       "<table border=\"1\" class=\"dataframe\">\n",
       "  <thead>\n",
       "    <tr style=\"text-align: right;\">\n",
       "      <th></th>\n",
       "      <th>City</th>\n",
       "      <th>Edition</th>\n",
       "      <th>Sport</th>\n",
       "      <th>Discipline</th>\n",
       "      <th>Athlete</th>\n",
       "      <th>NOC</th>\n",
       "      <th>Gender</th>\n",
       "      <th>Event</th>\n",
       "      <th>Event_gender</th>\n",
       "      <th>Medal</th>\n",
       "    </tr>\n",
       "  </thead>\n",
       "  <tbody>\n",
       "    <tr>\n",
       "      <th>23675</th>\n",
       "      <td>Sydney</td>\n",
       "      <td>2000</td>\n",
       "      <td>Athletics</td>\n",
       "      <td>Athletics</td>\n",
       "      <td>CHEPCHUMBA, Joyce</td>\n",
       "      <td>KEN</td>\n",
       "      <td>Women</td>\n",
       "      <td>marathon</td>\n",
       "      <td>W</td>\n",
       "      <td>Bronze</td>\n",
       "    </tr>\n",
       "  </tbody>\n",
       "</table>\n",
       "</div>"
      ],
      "text/plain": [
       "         City  Edition      Sport Discipline            Athlete  NOC Gender  \\\n",
       "23675  Sydney     2000  Athletics  Athletics  CHEPCHUMBA, Joyce  KEN  Women   \n",
       "\n",
       "          Event Event_gender   Medal  \n",
       "23675  marathon            W  Bronze  "
      ]
     },
     "execution_count": 164,
     "metadata": {},
     "output_type": "execute_result"
    }
   ],
   "source": [
    "medals_clean[filters]"
   ]
  },
  {
   "cell_type": "markdown",
   "metadata": {
    "collapsed": true
   },
   "source": [
    "Comparing USA vs USSR during the Cold War"
   ]
  },
  {
   "cell_type": "code",
   "execution_count": 165,
   "metadata": {},
   "outputs": [],
   "source": [
    "# Filters\n",
    "during_cold_war = (medals.Edition >= 1952) & (medals.Edition <= 1988)\n",
    "is_usa_urs = (medals.NOC == 'USA') | (medals.NOC == 'URS')"
   ]
  },
  {
   "cell_type": "code",
   "execution_count": 166,
   "metadata": {},
   "outputs": [],
   "source": [
    "cold_war_medals = medals[(during_cold_war) & (is_usa_urs)]"
   ]
  },
  {
   "cell_type": "code",
   "execution_count": 167,
   "metadata": {},
   "outputs": [
    {
     "data": {
      "text/html": [
       "<div>\n",
       "<style>\n",
       "    .dataframe thead tr:only-child th {\n",
       "        text-align: right;\n",
       "    }\n",
       "\n",
       "    .dataframe thead th {\n",
       "        text-align: left;\n",
       "    }\n",
       "\n",
       "    .dataframe tbody tr th {\n",
       "        vertical-align: top;\n",
       "    }\n",
       "</style>\n",
       "<table border=\"1\" class=\"dataframe\">\n",
       "  <thead>\n",
       "    <tr style=\"text-align: right;\">\n",
       "      <th></th>\n",
       "      <th>City</th>\n",
       "      <th>Edition</th>\n",
       "      <th>Sport</th>\n",
       "      <th>Discipline</th>\n",
       "      <th>Athlete</th>\n",
       "      <th>NOC</th>\n",
       "      <th>Gender</th>\n",
       "      <th>Event</th>\n",
       "      <th>Event_gender</th>\n",
       "      <th>Medal</th>\n",
       "    </tr>\n",
       "  </thead>\n",
       "  <tbody>\n",
       "    <tr>\n",
       "      <th>8019</th>\n",
       "      <td>Helsinki</td>\n",
       "      <td>1952</td>\n",
       "      <td>Aquatics</td>\n",
       "      <td>Diving</td>\n",
       "      <td>LEE, Samuel</td>\n",
       "      <td>USA</td>\n",
       "      <td>Men</td>\n",
       "      <td>10m platform</td>\n",
       "      <td>M</td>\n",
       "      <td>Gold</td>\n",
       "    </tr>\n",
       "    <tr>\n",
       "      <th>8021</th>\n",
       "      <td>Helsinki</td>\n",
       "      <td>1952</td>\n",
       "      <td>Aquatics</td>\n",
       "      <td>Diving</td>\n",
       "      <td>STOVER-IRWIN, Juno Roslays</td>\n",
       "      <td>USA</td>\n",
       "      <td>Women</td>\n",
       "      <td>10m platform</td>\n",
       "      <td>W</td>\n",
       "      <td>Bronze</td>\n",
       "    </tr>\n",
       "    <tr>\n",
       "      <th>8022</th>\n",
       "      <td>Helsinki</td>\n",
       "      <td>1952</td>\n",
       "      <td>Aquatics</td>\n",
       "      <td>Diving</td>\n",
       "      <td>MCCORMICK, Patricia</td>\n",
       "      <td>USA</td>\n",
       "      <td>Women</td>\n",
       "      <td>10m platform</td>\n",
       "      <td>W</td>\n",
       "      <td>Gold</td>\n",
       "    </tr>\n",
       "    <tr>\n",
       "      <th>8023</th>\n",
       "      <td>Helsinki</td>\n",
       "      <td>1952</td>\n",
       "      <td>Aquatics</td>\n",
       "      <td>Diving</td>\n",
       "      <td>MYERS-POPE, Paula Jean</td>\n",
       "      <td>USA</td>\n",
       "      <td>Women</td>\n",
       "      <td>10m platform</td>\n",
       "      <td>W</td>\n",
       "      <td>Silver</td>\n",
       "    </tr>\n",
       "    <tr>\n",
       "      <th>...</th>\n",
       "      <td>...</td>\n",
       "      <td>...</td>\n",
       "      <td>...</td>\n",
       "      <td>...</td>\n",
       "      <td>...</td>\n",
       "      <td>...</td>\n",
       "      <td>...</td>\n",
       "      <td>...</td>\n",
       "      <td>...</td>\n",
       "      <td>...</td>\n",
       "    </tr>\n",
       "    <tr>\n",
       "      <th>19587</th>\n",
       "      <td>Seoul</td>\n",
       "      <td>1988</td>\n",
       "      <td>Wrestling</td>\n",
       "      <td>Wrestling Gre-R</td>\n",
       "      <td>TURLYKHANOV, Daulet</td>\n",
       "      <td>URS</td>\n",
       "      <td>Men</td>\n",
       "      <td>68 - 74kg (welterweight)</td>\n",
       "      <td>M</td>\n",
       "      <td>Silver</td>\n",
       "    </tr>\n",
       "    <tr>\n",
       "      <th>19589</th>\n",
       "      <td>Seoul</td>\n",
       "      <td>1988</td>\n",
       "      <td>Wrestling</td>\n",
       "      <td>Wrestling Gre-R</td>\n",
       "      <td>MAMIASHVILI, Mikhail</td>\n",
       "      <td>URS</td>\n",
       "      <td>Men</td>\n",
       "      <td>74 - 82kg (middleweight)</td>\n",
       "      <td>M</td>\n",
       "      <td>Gold</td>\n",
       "    </tr>\n",
       "    <tr>\n",
       "      <th>19591</th>\n",
       "      <td>Seoul</td>\n",
       "      <td>1988</td>\n",
       "      <td>Wrestling</td>\n",
       "      <td>Wrestling Gre-R</td>\n",
       "      <td>POPOV, Vladimir</td>\n",
       "      <td>URS</td>\n",
       "      <td>Men</td>\n",
       "      <td>82 - 90kg (light-heavyweight)</td>\n",
       "      <td>M</td>\n",
       "      <td>Bronze</td>\n",
       "    </tr>\n",
       "    <tr>\n",
       "      <th>19594</th>\n",
       "      <td>Seoul</td>\n",
       "      <td>1988</td>\n",
       "      <td>Wrestling</td>\n",
       "      <td>Wrestling Gre-R</td>\n",
       "      <td>KOSLOWSKI, Dennis Marvin</td>\n",
       "      <td>USA</td>\n",
       "      <td>Men</td>\n",
       "      <td>90 - 100kg (heavyweight)</td>\n",
       "      <td>M</td>\n",
       "      <td>Bronze</td>\n",
       "    </tr>\n",
       "  </tbody>\n",
       "</table>\n",
       "<p>3544 rows × 10 columns</p>\n",
       "</div>"
      ],
      "text/plain": [
       "           City  Edition      Sport       Discipline  \\\n",
       "8019   Helsinki     1952   Aquatics           Diving   \n",
       "8021   Helsinki     1952   Aquatics           Diving   \n",
       "8022   Helsinki     1952   Aquatics           Diving   \n",
       "8023   Helsinki     1952   Aquatics           Diving   \n",
       "...         ...      ...        ...              ...   \n",
       "19587     Seoul     1988  Wrestling  Wrestling Gre-R   \n",
       "19589     Seoul     1988  Wrestling  Wrestling Gre-R   \n",
       "19591     Seoul     1988  Wrestling  Wrestling Gre-R   \n",
       "19594     Seoul     1988  Wrestling  Wrestling Gre-R   \n",
       "\n",
       "                          Athlete  NOC Gender                          Event  \\\n",
       "8019                  LEE, Samuel  USA    Men                   10m platform   \n",
       "8021   STOVER-IRWIN, Juno Roslays  USA  Women                   10m platform   \n",
       "8022          MCCORMICK, Patricia  USA  Women                   10m platform   \n",
       "8023       MYERS-POPE, Paula Jean  USA  Women                   10m platform   \n",
       "...                           ...  ...    ...                            ...   \n",
       "19587         TURLYKHANOV, Daulet  URS    Men       68 - 74kg (welterweight)   \n",
       "19589        MAMIASHVILI, Mikhail  URS    Men       74 - 82kg (middleweight)   \n",
       "19591             POPOV, Vladimir  URS    Men  82 - 90kg (light-heavyweight)   \n",
       "19594    KOSLOWSKI, Dennis Marvin  USA    Men       90 - 100kg (heavyweight)   \n",
       "\n",
       "      Event_gender   Medal  \n",
       "8019             M    Gold  \n",
       "8021             W  Bronze  \n",
       "8022             W    Gold  \n",
       "8023             W  Silver  \n",
       "...            ...     ...  \n",
       "19587            M  Silver  \n",
       "19589            M    Gold  \n",
       "19591            M  Bronze  \n",
       "19594            M  Bronze  \n",
       "\n",
       "[3544 rows x 10 columns]"
      ]
     },
     "execution_count": 167,
     "metadata": {},
     "output_type": "execute_result"
    }
   ],
   "source": [
    "cold_war_medals # everything seems ok"
   ]
  },
  {
   "cell_type": "code",
   "execution_count": 168,
   "metadata": {
    "collapsed": true
   },
   "outputs": [],
   "source": [
    "country_grouped = cold_war_medals.groupby('NOC')"
   ]
  },
  {
   "cell_type": "code",
   "execution_count": 169,
   "metadata": {},
   "outputs": [
    {
     "data": {
      "text/html": [
       "<div>\n",
       "<style>\n",
       "    .dataframe thead tr:only-child th {\n",
       "        text-align: right;\n",
       "    }\n",
       "\n",
       "    .dataframe thead th {\n",
       "        text-align: left;\n",
       "    }\n",
       "\n",
       "    .dataframe tbody tr th {\n",
       "        vertical-align: top;\n",
       "    }\n",
       "</style>\n",
       "<table border=\"1\" class=\"dataframe\">\n",
       "  <thead>\n",
       "    <tr style=\"text-align: right;\">\n",
       "      <th></th>\n",
       "      <th>City</th>\n",
       "      <th>Edition</th>\n",
       "      <th>Sport</th>\n",
       "      <th>Discipline</th>\n",
       "      <th>Athlete</th>\n",
       "      <th>NOC</th>\n",
       "      <th>Gender</th>\n",
       "      <th>Event</th>\n",
       "      <th>Event_gender</th>\n",
       "      <th>Medal</th>\n",
       "    </tr>\n",
       "  </thead>\n",
       "  <tbody>\n",
       "    <tr>\n",
       "      <th>8019</th>\n",
       "      <td>Helsinki</td>\n",
       "      <td>1952</td>\n",
       "      <td>Aquatics</td>\n",
       "      <td>Diving</td>\n",
       "      <td>LEE, Samuel</td>\n",
       "      <td>USA</td>\n",
       "      <td>Men</td>\n",
       "      <td>10m platform</td>\n",
       "      <td>M</td>\n",
       "      <td>Gold</td>\n",
       "    </tr>\n",
       "    <tr>\n",
       "      <th>8021</th>\n",
       "      <td>Helsinki</td>\n",
       "      <td>1952</td>\n",
       "      <td>Aquatics</td>\n",
       "      <td>Diving</td>\n",
       "      <td>STOVER-IRWIN, Juno Roslays</td>\n",
       "      <td>USA</td>\n",
       "      <td>Women</td>\n",
       "      <td>10m platform</td>\n",
       "      <td>W</td>\n",
       "      <td>Bronze</td>\n",
       "    </tr>\n",
       "    <tr>\n",
       "      <th>8022</th>\n",
       "      <td>Helsinki</td>\n",
       "      <td>1952</td>\n",
       "      <td>Aquatics</td>\n",
       "      <td>Diving</td>\n",
       "      <td>MCCORMICK, Patricia</td>\n",
       "      <td>USA</td>\n",
       "      <td>Women</td>\n",
       "      <td>10m platform</td>\n",
       "      <td>W</td>\n",
       "      <td>Gold</td>\n",
       "    </tr>\n",
       "    <tr>\n",
       "      <th>8023</th>\n",
       "      <td>Helsinki</td>\n",
       "      <td>1952</td>\n",
       "      <td>Aquatics</td>\n",
       "      <td>Diving</td>\n",
       "      <td>MYERS-POPE, Paula Jean</td>\n",
       "      <td>USA</td>\n",
       "      <td>Women</td>\n",
       "      <td>10m platform</td>\n",
       "      <td>W</td>\n",
       "      <td>Silver</td>\n",
       "    </tr>\n",
       "    <tr>\n",
       "      <th>...</th>\n",
       "      <td>...</td>\n",
       "      <td>...</td>\n",
       "      <td>...</td>\n",
       "      <td>...</td>\n",
       "      <td>...</td>\n",
       "      <td>...</td>\n",
       "      <td>...</td>\n",
       "      <td>...</td>\n",
       "      <td>...</td>\n",
       "      <td>...</td>\n",
       "    </tr>\n",
       "    <tr>\n",
       "      <th>8117</th>\n",
       "      <td>Helsinki</td>\n",
       "      <td>1952</td>\n",
       "      <td>Athletics</td>\n",
       "      <td>Athletics</td>\n",
       "      <td>JUNK, Bruno</td>\n",
       "      <td>URS</td>\n",
       "      <td>Men</td>\n",
       "      <td>10000m walk</td>\n",
       "      <td>M</td>\n",
       "      <td>Bronze</td>\n",
       "    </tr>\n",
       "    <tr>\n",
       "      <th>8135</th>\n",
       "      <td>Helsinki</td>\n",
       "      <td>1952</td>\n",
       "      <td>Athletics</td>\n",
       "      <td>Athletics</td>\n",
       "      <td>KHNYKINA-DVALISHVILI, Nadezhda</td>\n",
       "      <td>URS</td>\n",
       "      <td>Women</td>\n",
       "      <td>200m</td>\n",
       "      <td>W</td>\n",
       "      <td>Bronze</td>\n",
       "    </tr>\n",
       "    <tr>\n",
       "      <th>8140</th>\n",
       "      <td>Helsinki</td>\n",
       "      <td>1952</td>\n",
       "      <td>Athletics</td>\n",
       "      <td>Athletics</td>\n",
       "      <td>KAZANTSEV, Vladimir</td>\n",
       "      <td>URS</td>\n",
       "      <td>Men</td>\n",
       "      <td>3000m steeplechase</td>\n",
       "      <td>M</td>\n",
       "      <td>Silver</td>\n",
       "    </tr>\n",
       "    <tr>\n",
       "      <th>8146</th>\n",
       "      <td>Helsinki</td>\n",
       "      <td>1952</td>\n",
       "      <td>Athletics</td>\n",
       "      <td>Athletics</td>\n",
       "      <td>LITUEV, Yuri</td>\n",
       "      <td>URS</td>\n",
       "      <td>Men</td>\n",
       "      <td>400m hurdles</td>\n",
       "      <td>M</td>\n",
       "      <td>Silver</td>\n",
       "    </tr>\n",
       "  </tbody>\n",
       "</table>\n",
       "<p>10 rows × 10 columns</p>\n",
       "</div>"
      ],
      "text/plain": [
       "          City  Edition      Sport Discipline                         Athlete  \\\n",
       "8019  Helsinki     1952   Aquatics     Diving                     LEE, Samuel   \n",
       "8021  Helsinki     1952   Aquatics     Diving      STOVER-IRWIN, Juno Roslays   \n",
       "8022  Helsinki     1952   Aquatics     Diving             MCCORMICK, Patricia   \n",
       "8023  Helsinki     1952   Aquatics     Diving          MYERS-POPE, Paula Jean   \n",
       "...        ...      ...        ...        ...                             ...   \n",
       "8117  Helsinki     1952  Athletics  Athletics                     JUNK, Bruno   \n",
       "8135  Helsinki     1952  Athletics  Athletics  KHNYKINA-DVALISHVILI, Nadezhda   \n",
       "8140  Helsinki     1952  Athletics  Athletics             KAZANTSEV, Vladimir   \n",
       "8146  Helsinki     1952  Athletics  Athletics                    LITUEV, Yuri   \n",
       "\n",
       "      NOC Gender               Event Event_gender   Medal  \n",
       "8019  USA    Men        10m platform            M    Gold  \n",
       "8021  USA  Women        10m platform            W  Bronze  \n",
       "8022  USA  Women        10m platform            W    Gold  \n",
       "8023  USA  Women        10m platform            W  Silver  \n",
       "...   ...    ...                 ...          ...     ...  \n",
       "8117  URS    Men         10000m walk            M  Bronze  \n",
       "8135  URS  Women                200m            W  Bronze  \n",
       "8140  URS    Men  3000m steeplechase            M  Silver  \n",
       "8146  URS    Men        400m hurdles            M  Silver  \n",
       "\n",
       "[10 rows x 10 columns]"
      ]
     },
     "execution_count": 169,
     "metadata": {},
     "output_type": "execute_result"
    }
   ],
   "source": [
    "country_grouped.head()"
   ]
  },
  {
   "cell_type": "code",
   "execution_count": 170,
   "metadata": {
    "collapsed": true
   },
   "outputs": [],
   "source": [
    "# Number of unique sports in which the USA and USSR won medals\n",
    "Nsports = country_grouped['Sport'].nunique().sort_values(ascending=False)"
   ]
  },
  {
   "cell_type": "code",
   "execution_count": 171,
   "metadata": {},
   "outputs": [
    {
     "data": {
      "text/plain": [
       "NOC\n",
       "URS    21\n",
       "USA    20\n",
       "Name: Sport, dtype: int64"
      ]
     },
     "execution_count": 171,
     "metadata": {},
     "output_type": "execute_result"
    }
   ],
   "source": [
    "Nsports"
   ]
  },
  {
   "cell_type": "markdown",
   "metadata": {},
   "source": [
    "Counting USA vs. USSR Cold War Olympic Medals"
   ]
  },
  {
   "cell_type": "code",
   "execution_count": 172,
   "metadata": {},
   "outputs": [],
   "source": [
    "# Medals won by the USA and medals won by the USSR\n",
    "medals_won_by_country = cold_war_medals.pivot_table(aggfunc='count', index='Edition', columns='NOC', values='Athlete')"
   ]
  },
  {
   "cell_type": "code",
   "execution_count": 173,
   "metadata": {},
   "outputs": [],
   "source": [
    "medals_won_by_country.loc['Total'] = pd.Series(medals_won_by_country[['USA', 'URS']].sum(), index = ['USA', 'URS'])"
   ]
  },
  {
   "cell_type": "code",
   "execution_count": 174,
   "metadata": {},
   "outputs": [
    {
     "data": {
      "text/html": [
       "<div>\n",
       "<style>\n",
       "    .dataframe thead tr:only-child th {\n",
       "        text-align: right;\n",
       "    }\n",
       "\n",
       "    .dataframe thead th {\n",
       "        text-align: left;\n",
       "    }\n",
       "\n",
       "    .dataframe tbody tr th {\n",
       "        vertical-align: top;\n",
       "    }\n",
       "</style>\n",
       "<table border=\"1\" class=\"dataframe\">\n",
       "  <thead>\n",
       "    <tr style=\"text-align: right;\">\n",
       "      <th>NOC</th>\n",
       "      <th>URS</th>\n",
       "      <th>USA</th>\n",
       "    </tr>\n",
       "    <tr>\n",
       "      <th>Edition</th>\n",
       "      <th></th>\n",
       "      <th></th>\n",
       "    </tr>\n",
       "  </thead>\n",
       "  <tbody>\n",
       "    <tr>\n",
       "      <th>1952</th>\n",
       "      <td>117.0</td>\n",
       "      <td>130.0</td>\n",
       "    </tr>\n",
       "    <tr>\n",
       "      <th>1956</th>\n",
       "      <td>169.0</td>\n",
       "      <td>118.0</td>\n",
       "    </tr>\n",
       "    <tr>\n",
       "      <th>1960</th>\n",
       "      <td>169.0</td>\n",
       "      <td>112.0</td>\n",
       "    </tr>\n",
       "    <tr>\n",
       "      <th>1964</th>\n",
       "      <td>174.0</td>\n",
       "      <td>150.0</td>\n",
       "    </tr>\n",
       "    <tr>\n",
       "      <th>...</th>\n",
       "      <td>...</td>\n",
       "      <td>...</td>\n",
       "    </tr>\n",
       "    <tr>\n",
       "      <th>1980</th>\n",
       "      <td>442.0</td>\n",
       "      <td>NaN</td>\n",
       "    </tr>\n",
       "    <tr>\n",
       "      <th>1984</th>\n",
       "      <td>NaN</td>\n",
       "      <td>333.0</td>\n",
       "    </tr>\n",
       "    <tr>\n",
       "      <th>1988</th>\n",
       "      <td>294.0</td>\n",
       "      <td>193.0</td>\n",
       "    </tr>\n",
       "    <tr>\n",
       "      <th>Total</th>\n",
       "      <td>2049.0</td>\n",
       "      <td>1495.0</td>\n",
       "    </tr>\n",
       "  </tbody>\n",
       "</table>\n",
       "<p>11 rows × 2 columns</p>\n",
       "</div>"
      ],
      "text/plain": [
       "NOC         URS     USA\n",
       "Edition                \n",
       "1952      117.0   130.0\n",
       "1956      169.0   118.0\n",
       "1960      169.0   112.0\n",
       "1964      174.0   150.0\n",
       "...         ...     ...\n",
       "1980      442.0     NaN\n",
       "1984        NaN   333.0\n",
       "1988      294.0   193.0\n",
       "Total    2049.0  1495.0\n",
       "\n",
       "[11 rows x 2 columns]"
      ]
     },
     "execution_count": 174,
     "metadata": {},
     "output_type": "execute_result"
    }
   ],
   "source": [
    "medals_won_by_country # The NaN values was because of boycots each country made when the olympics were hosted by the \"rival\""
   ]
  },
  {
   "cell_type": "markdown",
   "metadata": {},
   "source": [
    "Visualizing USA Medal Counts by Edition"
   ]
  },
  {
   "cell_type": "code",
   "execution_count": 175,
   "metadata": {
    "collapsed": true
   },
   "outputs": [],
   "source": [
    "# Create the DataFrame: usa\n",
    "usa = medals[(medals.NOC == 'USA')]"
   ]
  },
  {
   "cell_type": "code",
   "execution_count": 176,
   "metadata": {
    "collapsed": true
   },
   "outputs": [],
   "source": [
    "# Group usa by ['Edition', 'Medal'] and aggregate over 'Athlete'\n",
    "usa_medals_by_year = usa.groupby(['Edition', 'Medal'])['Athlete'].count()"
   ]
  },
  {
   "cell_type": "code",
   "execution_count": 177,
   "metadata": {},
   "outputs": [
    {
     "data": {
      "text/plain": [
       "Edition  Medal \n",
       "1896     Bronze      2\n",
       "         Gold       11\n",
       "         Silver      7\n",
       "1900     Bronze     14\n",
       "                  ... \n",
       "2004     Silver     75\n",
       "2008     Bronze     81\n",
       "         Gold      125\n",
       "         Silver    109\n",
       "Name: Athlete, Length: 75, dtype: int64"
      ]
     },
     "execution_count": 177,
     "metadata": {},
     "output_type": "execute_result"
    }
   ],
   "source": [
    "usa_medals_by_year"
   ]
  },
  {
   "cell_type": "code",
   "execution_count": 178,
   "metadata": {
    "collapsed": true
   },
   "outputs": [],
   "source": [
    "usa_medals_by_year = usa_medals_by_year.unstack(level='Medal')"
   ]
  },
  {
   "cell_type": "code",
   "execution_count": 181,
   "metadata": {},
   "outputs": [
    {
     "data": {
      "text/html": [
       "<div>\n",
       "<style>\n",
       "    .dataframe thead tr:only-child th {\n",
       "        text-align: right;\n",
       "    }\n",
       "\n",
       "    .dataframe thead th {\n",
       "        text-align: left;\n",
       "    }\n",
       "\n",
       "    .dataframe tbody tr th {\n",
       "        vertical-align: top;\n",
       "    }\n",
       "</style>\n",
       "<table border=\"1\" class=\"dataframe\">\n",
       "  <thead>\n",
       "    <tr style=\"text-align: right;\">\n",
       "      <th>Medal</th>\n",
       "      <th>Bronze</th>\n",
       "      <th>Gold</th>\n",
       "      <th>Silver</th>\n",
       "    </tr>\n",
       "    <tr>\n",
       "      <th>Edition</th>\n",
       "      <th></th>\n",
       "      <th></th>\n",
       "      <th></th>\n",
       "    </tr>\n",
       "  </thead>\n",
       "  <tbody>\n",
       "    <tr>\n",
       "      <th>1896</th>\n",
       "      <td>2</td>\n",
       "      <td>11</td>\n",
       "      <td>7</td>\n",
       "    </tr>\n",
       "    <tr>\n",
       "      <th>1900</th>\n",
       "      <td>14</td>\n",
       "      <td>27</td>\n",
       "      <td>14</td>\n",
       "    </tr>\n",
       "    <tr>\n",
       "      <th>1904</th>\n",
       "      <td>111</td>\n",
       "      <td>146</td>\n",
       "      <td>137</td>\n",
       "    </tr>\n",
       "    <tr>\n",
       "      <th>1908</th>\n",
       "      <td>15</td>\n",
       "      <td>34</td>\n",
       "      <td>14</td>\n",
       "    </tr>\n",
       "    <tr>\n",
       "      <th>1912</th>\n",
       "      <td>31</td>\n",
       "      <td>45</td>\n",
       "      <td>25</td>\n",
       "    </tr>\n",
       "  </tbody>\n",
       "</table>\n",
       "</div>"
      ],
      "text/plain": [
       "Medal    Bronze  Gold  Silver\n",
       "Edition                      \n",
       "1896          2    11       7\n",
       "1900         14    27      14\n",
       "1904        111   146     137\n",
       "1908         15    34      14\n",
       "1912         31    45      25"
      ]
     },
     "execution_count": 181,
     "metadata": {},
     "output_type": "execute_result"
    }
   ],
   "source": [
    "usa_medals_by_year.head()"
   ]
  },
  {
   "cell_type": "code",
   "execution_count": 183,
   "metadata": {},
   "outputs": [],
   "source": [
    "#ordering the columns\n",
    "usa_medals_by_year = usa_medals_by_year[['Gold', 'Silver', 'Bronze']]"
   ]
  },
  {
   "cell_type": "code",
   "execution_count": 197,
   "metadata": {},
   "outputs": [
    {
     "data": {
      "application/vnd.plotly.v1+json": {
       "data": [
        {
         "fill": "tozeroy",
         "fillcolor": "rgba(255, 215, 0, 0.3)",
         "line": {
          "color": "rgba(255, 215, 0, 1.0)",
          "dash": "solid",
          "width": 1.3
         },
         "mode": "lines",
         "name": "Gold",
         "text": "",
         "type": "scatter",
         "x": [
          1896,
          1900,
          1904,
          1908,
          1912,
          1920,
          1924,
          1928,
          1932,
          1936,
          1948,
          1952,
          1956,
          1960,
          1964,
          1968,
          1972,
          1976,
          1984,
          1988,
          1992,
          1996,
          2000,
          2004,
          2008
         ],
         "y": [
          11,
          27,
          146,
          34,
          45,
          110,
          110,
          43,
          78,
          51,
          83,
          79,
          61,
          68,
          78,
          83,
          53,
          63,
          168,
          77,
          89,
          160,
          130,
          116,
          125
         ]
        },
        {
         "fill": "tozeroy",
         "fillcolor": "rgba(169, 169, 169, 0.3)",
         "line": {
          "color": "rgba(169, 169, 169, 1.0)",
          "dash": "solid",
          "width": 1.3
         },
         "mode": "lines",
         "name": "Silver",
         "text": "",
         "type": "scatter",
         "x": [
          1896,
          1900,
          1904,
          1908,
          1912,
          1920,
          1924,
          1928,
          1932,
          1936,
          1948,
          1952,
          1956,
          1960,
          1964,
          1968,
          1972,
          1976,
          1984,
          1988,
          1992,
          1996,
          2000,
          2004,
          2008
         ],
         "y": [
          7,
          14,
          137,
          14,
          25,
          45,
          37,
          24,
          44,
          26,
          30,
          23,
          37,
          23,
          36,
          31,
          59,
          56,
          115,
          64,
          50,
          48,
          66,
          75,
          109
         ]
        },
        {
         "fill": "tozeroy",
         "fillcolor": "rgba(165, 42, 42, 0.3)",
         "line": {
          "color": "rgba(165, 42, 42, 1.0)",
          "dash": "solid",
          "width": 1.3
         },
         "mode": "lines",
         "name": "Bronze",
         "text": "",
         "type": "scatter",
         "x": [
          1896,
          1900,
          1904,
          1908,
          1912,
          1920,
          1924,
          1928,
          1932,
          1936,
          1948,
          1952,
          1956,
          1960,
          1964,
          1968,
          1972,
          1976,
          1984,
          1988,
          1992,
          1996,
          2000,
          2004,
          2008
         ],
         "y": [
          2,
          14,
          111,
          15,
          31,
          38,
          51,
          17,
          59,
          15,
          35,
          28,
          20,
          21,
          36,
          35,
          43,
          36,
          50,
          52,
          85,
          52,
          52,
          73,
          81
         ]
        }
       ],
       "layout": {
        "legend": {
         "bgcolor": "#F5F6F9",
         "font": {
          "color": "#4D5663"
         }
        },
        "paper_bgcolor": "#F5F6F9",
        "plot_bgcolor": "#F5F6F9",
        "title": "Number of medals won by the USA by edition",
        "titlefont": {
         "color": "#4D5663"
        },
        "xaxis1": {
         "gridcolor": "#E1E5ED",
         "showgrid": true,
         "tickfont": {
          "color": "#4D5663"
         },
         "title": "",
         "titlefont": {
          "color": "#4D5663"
         },
         "zerolinecolor": "#E1E5ED"
        },
        "yaxis1": {
         "gridcolor": "#E1E5ED",
         "showgrid": true,
         "tickfont": {
          "color": "#4D5663"
         },
         "title": "Number of medals",
         "titlefont": {
          "color": "#4D5663"
         },
         "zerolinecolor": "#E1E5ED"
        }
       }
      },
      "text/html": [
       "<div id=\"4eaf0cb7-7d49-4e71-864b-5cd835939d2b\" style=\"height: 525px; width: 100%;\" class=\"plotly-graph-div\"></div><script type=\"text/javascript\">require([\"plotly\"], function(Plotly) { window.PLOTLYENV=window.PLOTLYENV || {};window.PLOTLYENV.BASE_URL=\"https://plot.ly\";Plotly.newPlot(\"4eaf0cb7-7d49-4e71-864b-5cd835939d2b\", [{\"type\": \"scatter\", \"x\": [1896, 1900, 1904, 1908, 1912, 1920, 1924, 1928, 1932, 1936, 1948, 1952, 1956, 1960, 1964, 1968, 1972, 1976, 1984, 1988, 1992, 1996, 2000, 2004, 2008], \"y\": [11, 27, 146, 34, 45, 110, 110, 43, 78, 51, 83, 79, 61, 68, 78, 83, 53, 63, 168, 77, 89, 160, 130, 116, 125], \"name\": \"Gold\", \"text\": \"\", \"line\": {\"color\": \"rgba(255, 215, 0, 1.0)\", \"width\": 1.3, \"dash\": \"solid\"}, \"mode\": \"lines\", \"fill\": \"tozeroy\", \"fillcolor\": \"rgba(255, 215, 0, 0.3)\"}, {\"type\": \"scatter\", \"x\": [1896, 1900, 1904, 1908, 1912, 1920, 1924, 1928, 1932, 1936, 1948, 1952, 1956, 1960, 1964, 1968, 1972, 1976, 1984, 1988, 1992, 1996, 2000, 2004, 2008], \"y\": [7, 14, 137, 14, 25, 45, 37, 24, 44, 26, 30, 23, 37, 23, 36, 31, 59, 56, 115, 64, 50, 48, 66, 75, 109], \"name\": \"Silver\", \"text\": \"\", \"line\": {\"color\": \"rgba(169, 169, 169, 1.0)\", \"width\": 1.3, \"dash\": \"solid\"}, \"mode\": \"lines\", \"fill\": \"tozeroy\", \"fillcolor\": \"rgba(169, 169, 169, 0.3)\"}, {\"type\": \"scatter\", \"x\": [1896, 1900, 1904, 1908, 1912, 1920, 1924, 1928, 1932, 1936, 1948, 1952, 1956, 1960, 1964, 1968, 1972, 1976, 1984, 1988, 1992, 1996, 2000, 2004, 2008], \"y\": [2, 14, 111, 15, 31, 38, 51, 17, 59, 15, 35, 28, 20, 21, 36, 35, 43, 36, 50, 52, 85, 52, 52, 73, 81], \"name\": \"Bronze\", \"text\": \"\", \"line\": {\"color\": \"rgba(165, 42, 42, 1.0)\", \"width\": 1.3, \"dash\": \"solid\"}, \"mode\": \"lines\", \"fill\": \"tozeroy\", \"fillcolor\": \"rgba(165, 42, 42, 0.3)\"}], {\"legend\": {\"bgcolor\": \"#F5F6F9\", \"font\": {\"color\": \"#4D5663\"}}, \"paper_bgcolor\": \"#F5F6F9\", \"plot_bgcolor\": \"#F5F6F9\", \"yaxis1\": {\"tickfont\": {\"color\": \"#4D5663\"}, \"gridcolor\": \"#E1E5ED\", \"titlefont\": {\"color\": \"#4D5663\"}, \"zerolinecolor\": \"#E1E5ED\", \"showgrid\": true, \"title\": \"Number of medals\"}, \"xaxis1\": {\"tickfont\": {\"color\": \"#4D5663\"}, \"gridcolor\": \"#E1E5ED\", \"titlefont\": {\"color\": \"#4D5663\"}, \"zerolinecolor\": \"#E1E5ED\", \"showgrid\": true, \"title\": \"\"}, \"titlefont\": {\"color\": \"#4D5663\"}, \"title\": \"Number of medals won by the USA by edition\"}, {\"showLink\": true, \"linkText\": \"Export to plot.ly\"})});</script>"
      ],
      "text/vnd.plotly.v1+html": [
       "<div id=\"4eaf0cb7-7d49-4e71-864b-5cd835939d2b\" style=\"height: 525px; width: 100%;\" class=\"plotly-graph-div\"></div><script type=\"text/javascript\">require([\"plotly\"], function(Plotly) { window.PLOTLYENV=window.PLOTLYENV || {};window.PLOTLYENV.BASE_URL=\"https://plot.ly\";Plotly.newPlot(\"4eaf0cb7-7d49-4e71-864b-5cd835939d2b\", [{\"type\": \"scatter\", \"x\": [1896, 1900, 1904, 1908, 1912, 1920, 1924, 1928, 1932, 1936, 1948, 1952, 1956, 1960, 1964, 1968, 1972, 1976, 1984, 1988, 1992, 1996, 2000, 2004, 2008], \"y\": [11, 27, 146, 34, 45, 110, 110, 43, 78, 51, 83, 79, 61, 68, 78, 83, 53, 63, 168, 77, 89, 160, 130, 116, 125], \"name\": \"Gold\", \"text\": \"\", \"line\": {\"color\": \"rgba(255, 215, 0, 1.0)\", \"width\": 1.3, \"dash\": \"solid\"}, \"mode\": \"lines\", \"fill\": \"tozeroy\", \"fillcolor\": \"rgba(255, 215, 0, 0.3)\"}, {\"type\": \"scatter\", \"x\": [1896, 1900, 1904, 1908, 1912, 1920, 1924, 1928, 1932, 1936, 1948, 1952, 1956, 1960, 1964, 1968, 1972, 1976, 1984, 1988, 1992, 1996, 2000, 2004, 2008], \"y\": [7, 14, 137, 14, 25, 45, 37, 24, 44, 26, 30, 23, 37, 23, 36, 31, 59, 56, 115, 64, 50, 48, 66, 75, 109], \"name\": \"Silver\", \"text\": \"\", \"line\": {\"color\": \"rgba(169, 169, 169, 1.0)\", \"width\": 1.3, \"dash\": \"solid\"}, \"mode\": \"lines\", \"fill\": \"tozeroy\", \"fillcolor\": \"rgba(169, 169, 169, 0.3)\"}, {\"type\": \"scatter\", \"x\": [1896, 1900, 1904, 1908, 1912, 1920, 1924, 1928, 1932, 1936, 1948, 1952, 1956, 1960, 1964, 1968, 1972, 1976, 1984, 1988, 1992, 1996, 2000, 2004, 2008], \"y\": [2, 14, 111, 15, 31, 38, 51, 17, 59, 15, 35, 28, 20, 21, 36, 35, 43, 36, 50, 52, 85, 52, 52, 73, 81], \"name\": \"Bronze\", \"text\": \"\", \"line\": {\"color\": \"rgba(165, 42, 42, 1.0)\", \"width\": 1.3, \"dash\": \"solid\"}, \"mode\": \"lines\", \"fill\": \"tozeroy\", \"fillcolor\": \"rgba(165, 42, 42, 0.3)\"}], {\"legend\": {\"bgcolor\": \"#F5F6F9\", \"font\": {\"color\": \"#4D5663\"}}, \"paper_bgcolor\": \"#F5F6F9\", \"plot_bgcolor\": \"#F5F6F9\", \"yaxis1\": {\"tickfont\": {\"color\": \"#4D5663\"}, \"gridcolor\": \"#E1E5ED\", \"titlefont\": {\"color\": \"#4D5663\"}, \"zerolinecolor\": \"#E1E5ED\", \"showgrid\": true, \"title\": \"Number of medals\"}, \"xaxis1\": {\"tickfont\": {\"color\": \"#4D5663\"}, \"gridcolor\": \"#E1E5ED\", \"titlefont\": {\"color\": \"#4D5663\"}, \"zerolinecolor\": \"#E1E5ED\", \"showgrid\": true, \"title\": \"\"}, \"titlefont\": {\"color\": \"#4D5663\"}, \"title\": \"Number of medals won by the USA by edition\"}, {\"showLink\": true, \"linkText\": \"Export to plot.ly\"})});</script>"
      ]
     },
     "metadata": {},
     "output_type": "display_data"
    }
   ],
   "source": [
    "usa_medals_by_year.iplot(kind='scatter',\n",
    "                         yTitle='Number of medals',\n",
    "                         title='Number of medals won by the USA by edition',\n",
    "                         color=['gold','darkgray', 'brown'],fill=True)"
   ]
  },
  {
   "cell_type": "code",
   "execution_count": null,
   "metadata": {
    "collapsed": true
   },
   "outputs": [],
   "source": []
  }
 ],
 "metadata": {
  "kernelspec": {
   "display_name": "Python [conda root]",
   "language": "python",
   "name": "conda-root-py"
  },
  "language_info": {
   "codemirror_mode": {
    "name": "ipython",
    "version": 3
   },
   "file_extension": ".py",
   "mimetype": "text/x-python",
   "name": "python",
   "nbconvert_exporter": "python",
   "pygments_lexer": "ipython3",
   "version": "3.6.1"
  }
 },
 "nbformat": 4,
 "nbformat_minor": 2
}
